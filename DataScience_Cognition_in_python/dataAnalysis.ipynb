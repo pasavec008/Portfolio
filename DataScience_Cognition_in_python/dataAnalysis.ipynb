{
 "cells": [
  {
   "cell_type": "markdown",
   "metadata": {},
   "source": [
    "## Meranie programátorských zručností pomocou kognitívnych testov - dátová analýza\n",
    "### 1. Načítanie dát a knižníc\n",
    "Najskôr si načítame knižnice, ktoré potrebujeme pre prácu s dátami a samotné dáta z .csv súboru."
   ]
  },
  {
   "cell_type": "code",
   "execution_count": 100,
   "metadata": {},
   "outputs": [],
   "source": [
    "#import libraries\n",
    "import pandas as pd\n",
    "import seaborn as sns\n",
    "from matplotlib import pyplot as plt\n",
    "import statsmodels.api as sm\n",
    "from scipy import stats\n",
    "from sklearn.preprocessing import PowerTransformer\n",
    "\n",
    "#load data\n",
    "df_results_all = pd.read_csv(\"data.csv\")"
   ]
  },
  {
   "cell_type": "markdown",
   "metadata": {},
   "source": [
    "Rozdelíme dáta na programátorské a neprogramátorské"
   ]
  },
  {
   "cell_type": "code",
   "execution_count": 101,
   "metadata": {},
   "outputs": [],
   "source": [
    "df_results_pro = df_results_all[df_results_all[\"programming_experience\"] == 1]\n",
    "df_results_nopro = df_results_all[df_results_all[\"programming_experience\"] == 0]"
   ]
  },
  {
   "cell_type": "code",
   "execution_count": 102,
   "metadata": {},
   "outputs": [
    {
     "name": "stdout",
     "output_type": "stream",
     "text": [
      "          gender        age       mood  programming_experience       mark  \\\n",
      "count  86.000000  86.000000  86.000000                    86.0  86.000000   \n",
      "mean    1.151163  27.848837   1.209302                     1.0   2.279070   \n",
      "std     0.420572   8.003701   0.652890                     0.0   1.252303   \n",
      "min     0.000000  18.000000   0.000000                     1.0   1.000000   \n",
      "25%     1.000000  22.000000   1.000000                     1.0   1.250000   \n",
      "50%     1.000000  24.500000   1.000000                     1.0   2.000000   \n",
      "75%     1.000000  32.000000   2.000000                     1.0   3.000000   \n",
      "max     2.000000  54.000000   2.000000                     1.0   6.000000   \n",
      "\n",
      "           skill  independence  motivation  experience_length  activity_1  \\\n",
      "count  86.000000     86.000000   86.000000          86.000000   86.000000   \n",
      "mean    1.860465      2.779070    2.383721           5.279070    3.631500   \n",
      "std     0.935104      0.639874    0.688880           2.481229    0.536941   \n",
      "min     0.000000      0.000000    0.000000           1.000000    1.189000   \n",
      "25%     1.000000      3.000000    2.000000           4.000000    3.323000   \n",
      "50%     2.000000      3.000000    2.000000           5.000000    3.758000   \n",
      "75%     2.750000      3.000000    3.000000           8.000000    4.016500   \n",
      "max     3.000000      3.000000    3.000000           8.000000    4.333000   \n",
      "\n",
      "       activity_2  activity_3  activity_4  activity_5  \n",
      "count   86.000000   86.000000   86.000000   86.000000  \n",
      "mean     3.981709    4.298872    3.780791    2.961058  \n",
      "std      0.382600    0.588524    0.653969    0.654194  \n",
      "min      2.307000    2.164000    2.012000    1.554000  \n",
      "25%      3.820750    4.146000    3.391500    2.591000  \n",
      "50%      4.102000    4.268000    3.536000    2.758500  \n",
      "75%      4.239750    5.000000    4.229500    3.445000  \n",
      "max      4.397000    5.000000    5.000000    4.176000  \n",
      "          gender        age       mood  programming_experience  mark  skill  \\\n",
      "count  26.000000  26.000000  26.000000                    26.0  26.0   26.0   \n",
      "mean    1.307692  26.653846   1.230769                     0.0  -1.0   -1.0   \n",
      "std     0.549125   9.046291   0.514408                     0.0   0.0    0.0   \n",
      "min     0.000000  17.000000   0.000000                     0.0  -1.0   -1.0   \n",
      "25%     1.000000  21.250000   1.000000                     0.0  -1.0   -1.0   \n",
      "50%     1.000000  23.000000   1.000000                     0.0  -1.0   -1.0   \n",
      "75%     2.000000  29.000000   1.750000                     0.0  -1.0   -1.0   \n",
      "max     2.000000  53.000000   2.000000                     0.0  -1.0   -1.0   \n",
      "\n",
      "       independence  motivation  experience_length  activity_1  activity_2  \\\n",
      "count          26.0        26.0               26.0   26.000000   26.000000   \n",
      "mean           -1.0        -1.0               -1.0    3.638500    4.054269   \n",
      "std             0.0         0.0                0.0    0.477371    0.274198   \n",
      "min            -1.0        -1.0               -1.0    1.953000    3.347000   \n",
      "25%            -1.0        -1.0               -1.0    3.342000    3.846000   \n",
      "50%            -1.0        -1.0               -1.0    3.799500    4.130500   \n",
      "75%            -1.0        -1.0               -1.0    3.971750    4.259500   \n",
      "max            -1.0        -1.0               -1.0    4.251000    4.383000   \n",
      "\n",
      "       activity_3  activity_4  activity_5  \n",
      "count   26.000000   26.000000   26.000000  \n",
      "mean     4.340615    3.931346    2.863038  \n",
      "std      0.413330    0.659684    0.700683  \n",
      "min      3.536000    2.682000    1.493000  \n",
      "25%      4.153500    3.421750    2.355000  \n",
      "50%      4.252500    4.146000    2.743000  \n",
      "75%      4.268000    4.237000    3.368750  \n",
      "max      5.000000    5.000000    4.237000  \n"
     ]
    }
   ],
   "source": [
    "print(df_results_pro.describe())\n",
    "print(df_results_nopro.describe())"
   ]
  },
  {
   "cell_type": "markdown",
   "metadata": {},
   "source": [
    "### 2. Základný opis a charakteristiky dát\n",
    "Ukážka datasetu"
   ]
  },
  {
   "cell_type": "code",
   "execution_count": 103,
   "metadata": {},
   "outputs": [
    {
     "data": {
      "text/html": [
       "<div>\n",
       "<style scoped>\n",
       "    .dataframe tbody tr th:only-of-type {\n",
       "        vertical-align: middle;\n",
       "    }\n",
       "\n",
       "    .dataframe tbody tr th {\n",
       "        vertical-align: top;\n",
       "    }\n",
       "\n",
       "    .dataframe thead th {\n",
       "        text-align: right;\n",
       "    }\n",
       "</style>\n",
       "<table border=\"1\" class=\"dataframe\">\n",
       "  <thead>\n",
       "    <tr style=\"text-align: right;\">\n",
       "      <th></th>\n",
       "      <th>gender</th>\n",
       "      <th>age</th>\n",
       "      <th>mood</th>\n",
       "      <th>programming_experience</th>\n",
       "      <th>mark</th>\n",
       "      <th>skill</th>\n",
       "      <th>independence</th>\n",
       "      <th>motivation</th>\n",
       "      <th>experience_length</th>\n",
       "      <th>activity_1</th>\n",
       "      <th>activity_2</th>\n",
       "      <th>activity_3</th>\n",
       "      <th>activity_4</th>\n",
       "      <th>activity_5</th>\n",
       "    </tr>\n",
       "  </thead>\n",
       "  <tbody>\n",
       "    <tr>\n",
       "      <th>96</th>\n",
       "      <td>1</td>\n",
       "      <td>22</td>\n",
       "      <td>1</td>\n",
       "      <td>1</td>\n",
       "      <td>2</td>\n",
       "      <td>1</td>\n",
       "      <td>3</td>\n",
       "      <td>3</td>\n",
       "      <td>6</td>\n",
       "      <td>3.806</td>\n",
       "      <td>4.372</td>\n",
       "      <td>4.268</td>\n",
       "      <td>5.000</td>\n",
       "      <td>3.445</td>\n",
       "    </tr>\n",
       "    <tr>\n",
       "      <th>103</th>\n",
       "      <td>1</td>\n",
       "      <td>43</td>\n",
       "      <td>1</td>\n",
       "      <td>1</td>\n",
       "      <td>4</td>\n",
       "      <td>1</td>\n",
       "      <td>3</td>\n",
       "      <td>2</td>\n",
       "      <td>1</td>\n",
       "      <td>3.422</td>\n",
       "      <td>3.788</td>\n",
       "      <td>3.475</td>\n",
       "      <td>3.414</td>\n",
       "      <td>3.414</td>\n",
       "    </tr>\n",
       "    <tr>\n",
       "      <th>104</th>\n",
       "      <td>2</td>\n",
       "      <td>32</td>\n",
       "      <td>1</td>\n",
       "      <td>1</td>\n",
       "      <td>3</td>\n",
       "      <td>3</td>\n",
       "      <td>3</td>\n",
       "      <td>2</td>\n",
       "      <td>6</td>\n",
       "      <td>3.523</td>\n",
       "      <td>3.929</td>\n",
       "      <td>5.000</td>\n",
       "      <td>4.268</td>\n",
       "      <td>2.682</td>\n",
       "    </tr>\n",
       "    <tr>\n",
       "      <th>105</th>\n",
       "      <td>1</td>\n",
       "      <td>32</td>\n",
       "      <td>2</td>\n",
       "      <td>1</td>\n",
       "      <td>2</td>\n",
       "      <td>2</td>\n",
       "      <td>3</td>\n",
       "      <td>3</td>\n",
       "      <td>8</td>\n",
       "      <td>3.150</td>\n",
       "      <td>3.137</td>\n",
       "      <td>4.268</td>\n",
       "      <td>3.262</td>\n",
       "      <td>2.591</td>\n",
       "    </tr>\n",
       "    <tr>\n",
       "      <th>109</th>\n",
       "      <td>1</td>\n",
       "      <td>35</td>\n",
       "      <td>1</td>\n",
       "      <td>1</td>\n",
       "      <td>2</td>\n",
       "      <td>2</td>\n",
       "      <td>3</td>\n",
       "      <td>3</td>\n",
       "      <td>8</td>\n",
       "      <td>3.945</td>\n",
       "      <td>3.933</td>\n",
       "      <td>4.146</td>\n",
       "      <td>4.237</td>\n",
       "      <td>3.353</td>\n",
       "    </tr>\n",
       "  </tbody>\n",
       "</table>\n",
       "</div>"
      ],
      "text/plain": [
       "     gender  age  mood  programming_experience  mark  skill  independence  \\\n",
       "96        1   22     1                       1     2      1             3   \n",
       "103       1   43     1                       1     4      1             3   \n",
       "104       2   32     1                       1     3      3             3   \n",
       "105       1   32     2                       1     2      2             3   \n",
       "109       1   35     1                       1     2      2             3   \n",
       "\n",
       "     motivation  experience_length  activity_1  activity_2  activity_3  \\\n",
       "96            3                  6       3.806       4.372       4.268   \n",
       "103           2                  1       3.422       3.788       3.475   \n",
       "104           2                  6       3.523       3.929       5.000   \n",
       "105           3                  8       3.150       3.137       4.268   \n",
       "109           3                  8       3.945       3.933       4.146   \n",
       "\n",
       "     activity_4  activity_5  \n",
       "96        5.000       3.445  \n",
       "103       3.414       3.414  \n",
       "104       4.268       2.682  \n",
       "105       3.262       2.591  \n",
       "109       4.237       3.353  "
      ]
     },
     "execution_count": 103,
     "metadata": {},
     "output_type": "execute_result"
    }
   ],
   "source": [
    "df_results_pro.tail()"
   ]
  },
  {
   "cell_type": "markdown",
   "metadata": {},
   "source": [
    "Počet dát"
   ]
  },
  {
   "cell_type": "code",
   "execution_count": 104,
   "metadata": {},
   "outputs": [
    {
     "name": "stdout",
     "output_type": "stream",
     "text": [
      "Only programmers data: 86\n",
      "Only no-programmers data: 26\n"
     ]
    }
   ],
   "source": [
    "print(\"Only programmers data:\", df_results_pro.shape[0])\n",
    "print(\"Only no-programmers data:\", df_results_nopro.shape[0])"
   ]
  },
  {
   "cell_type": "markdown",
   "metadata": {},
   "source": [
    "Typy atribútov  \n",
    "Tu vidíme, že dáta sú kompletné, teda nemusíme riešiť chýbajúce dáta."
   ]
  },
  {
   "cell_type": "code",
   "execution_count": 105,
   "metadata": {},
   "outputs": [
    {
     "name": "stdout",
     "output_type": "stream",
     "text": [
      "<class 'pandas.core.frame.DataFrame'>\n",
      "Int64Index: 86 entries, 1 to 109\n",
      "Data columns (total 14 columns):\n",
      " #   Column                  Non-Null Count  Dtype  \n",
      "---  ------                  --------------  -----  \n",
      " 0   gender                  86 non-null     int64  \n",
      " 1   age                     86 non-null     int64  \n",
      " 2   mood                    86 non-null     int64  \n",
      " 3   programming_experience  86 non-null     int64  \n",
      " 4   mark                    86 non-null     int64  \n",
      " 5   skill                   86 non-null     int64  \n",
      " 6   independence            86 non-null     int64  \n",
      " 7   motivation              86 non-null     int64  \n",
      " 8   experience_length       86 non-null     int64  \n",
      " 9   activity_1              86 non-null     float64\n",
      " 10  activity_2              86 non-null     float64\n",
      " 11  activity_3              86 non-null     float64\n",
      " 12  activity_4              86 non-null     float64\n",
      " 13  activity_5              86 non-null     float64\n",
      "dtypes: float64(5), int64(9)\n",
      "memory usage: 10.1 KB\n",
      "None\n"
     ]
    }
   ],
   "source": [
    "#types of attributes\n",
    "print(df_results_pro.info())"
   ]
  },
  {
   "cell_type": "code",
   "execution_count": 106,
   "metadata": {},
   "outputs": [
    {
     "name": "stdout",
     "output_type": "stream",
     "text": [
      "<class 'pandas.core.frame.DataFrame'>\n",
      "Int64Index: 26 entries, 0 to 111\n",
      "Data columns (total 14 columns):\n",
      " #   Column                  Non-Null Count  Dtype  \n",
      "---  ------                  --------------  -----  \n",
      " 0   gender                  26 non-null     int64  \n",
      " 1   age                     26 non-null     int64  \n",
      " 2   mood                    26 non-null     int64  \n",
      " 3   programming_experience  26 non-null     int64  \n",
      " 4   mark                    26 non-null     int64  \n",
      " 5   skill                   26 non-null     int64  \n",
      " 6   independence            26 non-null     int64  \n",
      " 7   motivation              26 non-null     int64  \n",
      " 8   experience_length       26 non-null     int64  \n",
      " 9   activity_1              26 non-null     float64\n",
      " 10  activity_2              26 non-null     float64\n",
      " 11  activity_3              26 non-null     float64\n",
      " 12  activity_4              26 non-null     float64\n",
      " 13  activity_5              26 non-null     float64\n",
      "dtypes: float64(5), int64(9)\n",
      "memory usage: 3.0 KB\n",
      "None\n"
     ]
    }
   ],
   "source": [
    "print(df_results_nopro.info())"
   ]
  },
  {
   "cell_type": "markdown",
   "metadata": {},
   "source": [
    "Deskriptívne štatistiky ako sú počet, priemer, minimá a maximá..."
   ]
  },
  {
   "cell_type": "code",
   "execution_count": 107,
   "metadata": {},
   "outputs": [
    {
     "data": {
      "text/html": [
       "<div>\n",
       "<style scoped>\n",
       "    .dataframe tbody tr th:only-of-type {\n",
       "        vertical-align: middle;\n",
       "    }\n",
       "\n",
       "    .dataframe tbody tr th {\n",
       "        vertical-align: top;\n",
       "    }\n",
       "\n",
       "    .dataframe thead th {\n",
       "        text-align: right;\n",
       "    }\n",
       "</style>\n",
       "<table border=\"1\" class=\"dataframe\">\n",
       "  <thead>\n",
       "    <tr style=\"text-align: right;\">\n",
       "      <th></th>\n",
       "      <th>gender</th>\n",
       "      <th>age</th>\n",
       "      <th>mood</th>\n",
       "      <th>programming_experience</th>\n",
       "      <th>mark</th>\n",
       "      <th>skill</th>\n",
       "      <th>independence</th>\n",
       "      <th>motivation</th>\n",
       "      <th>experience_length</th>\n",
       "      <th>activity_1</th>\n",
       "      <th>activity_2</th>\n",
       "      <th>activity_3</th>\n",
       "      <th>activity_4</th>\n",
       "      <th>activity_5</th>\n",
       "    </tr>\n",
       "  </thead>\n",
       "  <tbody>\n",
       "    <tr>\n",
       "      <th>count</th>\n",
       "      <td>86.000000</td>\n",
       "      <td>86.000000</td>\n",
       "      <td>86.000000</td>\n",
       "      <td>86.0</td>\n",
       "      <td>86.000000</td>\n",
       "      <td>86.000000</td>\n",
       "      <td>86.000000</td>\n",
       "      <td>86.000000</td>\n",
       "      <td>86.000000</td>\n",
       "      <td>86.000000</td>\n",
       "      <td>86.000000</td>\n",
       "      <td>86.000000</td>\n",
       "      <td>86.000000</td>\n",
       "      <td>86.000000</td>\n",
       "    </tr>\n",
       "    <tr>\n",
       "      <th>mean</th>\n",
       "      <td>1.151163</td>\n",
       "      <td>27.848837</td>\n",
       "      <td>1.209302</td>\n",
       "      <td>1.0</td>\n",
       "      <td>2.279070</td>\n",
       "      <td>1.860465</td>\n",
       "      <td>2.779070</td>\n",
       "      <td>2.383721</td>\n",
       "      <td>5.279070</td>\n",
       "      <td>3.631500</td>\n",
       "      <td>3.981709</td>\n",
       "      <td>4.298872</td>\n",
       "      <td>3.780791</td>\n",
       "      <td>2.961058</td>\n",
       "    </tr>\n",
       "    <tr>\n",
       "      <th>std</th>\n",
       "      <td>0.420572</td>\n",
       "      <td>8.003701</td>\n",
       "      <td>0.652890</td>\n",
       "      <td>0.0</td>\n",
       "      <td>1.252303</td>\n",
       "      <td>0.935104</td>\n",
       "      <td>0.639874</td>\n",
       "      <td>0.688880</td>\n",
       "      <td>2.481229</td>\n",
       "      <td>0.536941</td>\n",
       "      <td>0.382600</td>\n",
       "      <td>0.588524</td>\n",
       "      <td>0.653969</td>\n",
       "      <td>0.654194</td>\n",
       "    </tr>\n",
       "    <tr>\n",
       "      <th>min</th>\n",
       "      <td>0.000000</td>\n",
       "      <td>18.000000</td>\n",
       "      <td>0.000000</td>\n",
       "      <td>1.0</td>\n",
       "      <td>1.000000</td>\n",
       "      <td>0.000000</td>\n",
       "      <td>0.000000</td>\n",
       "      <td>0.000000</td>\n",
       "      <td>1.000000</td>\n",
       "      <td>1.189000</td>\n",
       "      <td>2.307000</td>\n",
       "      <td>2.164000</td>\n",
       "      <td>2.012000</td>\n",
       "      <td>1.554000</td>\n",
       "    </tr>\n",
       "    <tr>\n",
       "      <th>25%</th>\n",
       "      <td>1.000000</td>\n",
       "      <td>22.000000</td>\n",
       "      <td>1.000000</td>\n",
       "      <td>1.0</td>\n",
       "      <td>1.250000</td>\n",
       "      <td>1.000000</td>\n",
       "      <td>3.000000</td>\n",
       "      <td>2.000000</td>\n",
       "      <td>4.000000</td>\n",
       "      <td>3.323000</td>\n",
       "      <td>3.820750</td>\n",
       "      <td>4.146000</td>\n",
       "      <td>3.391500</td>\n",
       "      <td>2.591000</td>\n",
       "    </tr>\n",
       "    <tr>\n",
       "      <th>50%</th>\n",
       "      <td>1.000000</td>\n",
       "      <td>24.500000</td>\n",
       "      <td>1.000000</td>\n",
       "      <td>1.0</td>\n",
       "      <td>2.000000</td>\n",
       "      <td>2.000000</td>\n",
       "      <td>3.000000</td>\n",
       "      <td>2.000000</td>\n",
       "      <td>5.000000</td>\n",
       "      <td>3.758000</td>\n",
       "      <td>4.102000</td>\n",
       "      <td>4.268000</td>\n",
       "      <td>3.536000</td>\n",
       "      <td>2.758500</td>\n",
       "    </tr>\n",
       "    <tr>\n",
       "      <th>75%</th>\n",
       "      <td>1.000000</td>\n",
       "      <td>32.000000</td>\n",
       "      <td>2.000000</td>\n",
       "      <td>1.0</td>\n",
       "      <td>3.000000</td>\n",
       "      <td>2.750000</td>\n",
       "      <td>3.000000</td>\n",
       "      <td>3.000000</td>\n",
       "      <td>8.000000</td>\n",
       "      <td>4.016500</td>\n",
       "      <td>4.239750</td>\n",
       "      <td>5.000000</td>\n",
       "      <td>4.229500</td>\n",
       "      <td>3.445000</td>\n",
       "    </tr>\n",
       "    <tr>\n",
       "      <th>max</th>\n",
       "      <td>2.000000</td>\n",
       "      <td>54.000000</td>\n",
       "      <td>2.000000</td>\n",
       "      <td>1.0</td>\n",
       "      <td>6.000000</td>\n",
       "      <td>3.000000</td>\n",
       "      <td>3.000000</td>\n",
       "      <td>3.000000</td>\n",
       "      <td>8.000000</td>\n",
       "      <td>4.333000</td>\n",
       "      <td>4.397000</td>\n",
       "      <td>5.000000</td>\n",
       "      <td>5.000000</td>\n",
       "      <td>4.176000</td>\n",
       "    </tr>\n",
       "  </tbody>\n",
       "</table>\n",
       "</div>"
      ],
      "text/plain": [
       "          gender        age       mood  programming_experience       mark  \\\n",
       "count  86.000000  86.000000  86.000000                    86.0  86.000000   \n",
       "mean    1.151163  27.848837   1.209302                     1.0   2.279070   \n",
       "std     0.420572   8.003701   0.652890                     0.0   1.252303   \n",
       "min     0.000000  18.000000   0.000000                     1.0   1.000000   \n",
       "25%     1.000000  22.000000   1.000000                     1.0   1.250000   \n",
       "50%     1.000000  24.500000   1.000000                     1.0   2.000000   \n",
       "75%     1.000000  32.000000   2.000000                     1.0   3.000000   \n",
       "max     2.000000  54.000000   2.000000                     1.0   6.000000   \n",
       "\n",
       "           skill  independence  motivation  experience_length  activity_1  \\\n",
       "count  86.000000     86.000000   86.000000          86.000000   86.000000   \n",
       "mean    1.860465      2.779070    2.383721           5.279070    3.631500   \n",
       "std     0.935104      0.639874    0.688880           2.481229    0.536941   \n",
       "min     0.000000      0.000000    0.000000           1.000000    1.189000   \n",
       "25%     1.000000      3.000000    2.000000           4.000000    3.323000   \n",
       "50%     2.000000      3.000000    2.000000           5.000000    3.758000   \n",
       "75%     2.750000      3.000000    3.000000           8.000000    4.016500   \n",
       "max     3.000000      3.000000    3.000000           8.000000    4.333000   \n",
       "\n",
       "       activity_2  activity_3  activity_4  activity_5  \n",
       "count   86.000000   86.000000   86.000000   86.000000  \n",
       "mean     3.981709    4.298872    3.780791    2.961058  \n",
       "std      0.382600    0.588524    0.653969    0.654194  \n",
       "min      2.307000    2.164000    2.012000    1.554000  \n",
       "25%      3.820750    4.146000    3.391500    2.591000  \n",
       "50%      4.102000    4.268000    3.536000    2.758500  \n",
       "75%      4.239750    5.000000    4.229500    3.445000  \n",
       "max      4.397000    5.000000    5.000000    4.176000  "
      ]
     },
     "execution_count": 107,
     "metadata": {},
     "output_type": "execute_result"
    }
   ],
   "source": [
    "df_results_pro.describe()"
   ]
  },
  {
   "cell_type": "code",
   "execution_count": 108,
   "metadata": {},
   "outputs": [
    {
     "data": {
      "text/html": [
       "<div>\n",
       "<style scoped>\n",
       "    .dataframe tbody tr th:only-of-type {\n",
       "        vertical-align: middle;\n",
       "    }\n",
       "\n",
       "    .dataframe tbody tr th {\n",
       "        vertical-align: top;\n",
       "    }\n",
       "\n",
       "    .dataframe thead th {\n",
       "        text-align: right;\n",
       "    }\n",
       "</style>\n",
       "<table border=\"1\" class=\"dataframe\">\n",
       "  <thead>\n",
       "    <tr style=\"text-align: right;\">\n",
       "      <th></th>\n",
       "      <th>gender</th>\n",
       "      <th>age</th>\n",
       "      <th>mood</th>\n",
       "      <th>programming_experience</th>\n",
       "      <th>mark</th>\n",
       "      <th>skill</th>\n",
       "      <th>independence</th>\n",
       "      <th>motivation</th>\n",
       "      <th>experience_length</th>\n",
       "      <th>activity_1</th>\n",
       "      <th>activity_2</th>\n",
       "      <th>activity_3</th>\n",
       "      <th>activity_4</th>\n",
       "      <th>activity_5</th>\n",
       "    </tr>\n",
       "  </thead>\n",
       "  <tbody>\n",
       "    <tr>\n",
       "      <th>count</th>\n",
       "      <td>26.000000</td>\n",
       "      <td>26.000000</td>\n",
       "      <td>26.000000</td>\n",
       "      <td>26.0</td>\n",
       "      <td>26.0</td>\n",
       "      <td>26.0</td>\n",
       "      <td>26.0</td>\n",
       "      <td>26.0</td>\n",
       "      <td>26.0</td>\n",
       "      <td>26.000000</td>\n",
       "      <td>26.000000</td>\n",
       "      <td>26.000000</td>\n",
       "      <td>26.000000</td>\n",
       "      <td>26.000000</td>\n",
       "    </tr>\n",
       "    <tr>\n",
       "      <th>mean</th>\n",
       "      <td>1.307692</td>\n",
       "      <td>26.653846</td>\n",
       "      <td>1.230769</td>\n",
       "      <td>0.0</td>\n",
       "      <td>-1.0</td>\n",
       "      <td>-1.0</td>\n",
       "      <td>-1.0</td>\n",
       "      <td>-1.0</td>\n",
       "      <td>-1.0</td>\n",
       "      <td>3.638500</td>\n",
       "      <td>4.054269</td>\n",
       "      <td>4.340615</td>\n",
       "      <td>3.931346</td>\n",
       "      <td>2.863038</td>\n",
       "    </tr>\n",
       "    <tr>\n",
       "      <th>std</th>\n",
       "      <td>0.549125</td>\n",
       "      <td>9.046291</td>\n",
       "      <td>0.514408</td>\n",
       "      <td>0.0</td>\n",
       "      <td>0.0</td>\n",
       "      <td>0.0</td>\n",
       "      <td>0.0</td>\n",
       "      <td>0.0</td>\n",
       "      <td>0.0</td>\n",
       "      <td>0.477371</td>\n",
       "      <td>0.274198</td>\n",
       "      <td>0.413330</td>\n",
       "      <td>0.659684</td>\n",
       "      <td>0.700683</td>\n",
       "    </tr>\n",
       "    <tr>\n",
       "      <th>min</th>\n",
       "      <td>0.000000</td>\n",
       "      <td>17.000000</td>\n",
       "      <td>0.000000</td>\n",
       "      <td>0.0</td>\n",
       "      <td>-1.0</td>\n",
       "      <td>-1.0</td>\n",
       "      <td>-1.0</td>\n",
       "      <td>-1.0</td>\n",
       "      <td>-1.0</td>\n",
       "      <td>1.953000</td>\n",
       "      <td>3.347000</td>\n",
       "      <td>3.536000</td>\n",
       "      <td>2.682000</td>\n",
       "      <td>1.493000</td>\n",
       "    </tr>\n",
       "    <tr>\n",
       "      <th>25%</th>\n",
       "      <td>1.000000</td>\n",
       "      <td>21.250000</td>\n",
       "      <td>1.000000</td>\n",
       "      <td>0.0</td>\n",
       "      <td>-1.0</td>\n",
       "      <td>-1.0</td>\n",
       "      <td>-1.0</td>\n",
       "      <td>-1.0</td>\n",
       "      <td>-1.0</td>\n",
       "      <td>3.342000</td>\n",
       "      <td>3.846000</td>\n",
       "      <td>4.153500</td>\n",
       "      <td>3.421750</td>\n",
       "      <td>2.355000</td>\n",
       "    </tr>\n",
       "    <tr>\n",
       "      <th>50%</th>\n",
       "      <td>1.000000</td>\n",
       "      <td>23.000000</td>\n",
       "      <td>1.000000</td>\n",
       "      <td>0.0</td>\n",
       "      <td>-1.0</td>\n",
       "      <td>-1.0</td>\n",
       "      <td>-1.0</td>\n",
       "      <td>-1.0</td>\n",
       "      <td>-1.0</td>\n",
       "      <td>3.799500</td>\n",
       "      <td>4.130500</td>\n",
       "      <td>4.252500</td>\n",
       "      <td>4.146000</td>\n",
       "      <td>2.743000</td>\n",
       "    </tr>\n",
       "    <tr>\n",
       "      <th>75%</th>\n",
       "      <td>2.000000</td>\n",
       "      <td>29.000000</td>\n",
       "      <td>1.750000</td>\n",
       "      <td>0.0</td>\n",
       "      <td>-1.0</td>\n",
       "      <td>-1.0</td>\n",
       "      <td>-1.0</td>\n",
       "      <td>-1.0</td>\n",
       "      <td>-1.0</td>\n",
       "      <td>3.971750</td>\n",
       "      <td>4.259500</td>\n",
       "      <td>4.268000</td>\n",
       "      <td>4.237000</td>\n",
       "      <td>3.368750</td>\n",
       "    </tr>\n",
       "    <tr>\n",
       "      <th>max</th>\n",
       "      <td>2.000000</td>\n",
       "      <td>53.000000</td>\n",
       "      <td>2.000000</td>\n",
       "      <td>0.0</td>\n",
       "      <td>-1.0</td>\n",
       "      <td>-1.0</td>\n",
       "      <td>-1.0</td>\n",
       "      <td>-1.0</td>\n",
       "      <td>-1.0</td>\n",
       "      <td>4.251000</td>\n",
       "      <td>4.383000</td>\n",
       "      <td>5.000000</td>\n",
       "      <td>5.000000</td>\n",
       "      <td>4.237000</td>\n",
       "    </tr>\n",
       "  </tbody>\n",
       "</table>\n",
       "</div>"
      ],
      "text/plain": [
       "          gender        age       mood  programming_experience  mark  skill  \\\n",
       "count  26.000000  26.000000  26.000000                    26.0  26.0   26.0   \n",
       "mean    1.307692  26.653846   1.230769                     0.0  -1.0   -1.0   \n",
       "std     0.549125   9.046291   0.514408                     0.0   0.0    0.0   \n",
       "min     0.000000  17.000000   0.000000                     0.0  -1.0   -1.0   \n",
       "25%     1.000000  21.250000   1.000000                     0.0  -1.0   -1.0   \n",
       "50%     1.000000  23.000000   1.000000                     0.0  -1.0   -1.0   \n",
       "75%     2.000000  29.000000   1.750000                     0.0  -1.0   -1.0   \n",
       "max     2.000000  53.000000   2.000000                     0.0  -1.0   -1.0   \n",
       "\n",
       "       independence  motivation  experience_length  activity_1  activity_2  \\\n",
       "count          26.0        26.0               26.0   26.000000   26.000000   \n",
       "mean           -1.0        -1.0               -1.0    3.638500    4.054269   \n",
       "std             0.0         0.0                0.0    0.477371    0.274198   \n",
       "min            -1.0        -1.0               -1.0    1.953000    3.347000   \n",
       "25%            -1.0        -1.0               -1.0    3.342000    3.846000   \n",
       "50%            -1.0        -1.0               -1.0    3.799500    4.130500   \n",
       "75%            -1.0        -1.0               -1.0    3.971750    4.259500   \n",
       "max            -1.0        -1.0               -1.0    4.251000    4.383000   \n",
       "\n",
       "       activity_3  activity_4  activity_5  \n",
       "count   26.000000   26.000000   26.000000  \n",
       "mean     4.340615    3.931346    2.863038  \n",
       "std      0.413330    0.659684    0.700683  \n",
       "min      3.536000    2.682000    1.493000  \n",
       "25%      4.153500    3.421750    2.355000  \n",
       "50%      4.252500    4.146000    2.743000  \n",
       "75%      4.268000    4.237000    3.368750  \n",
       "max      5.000000    5.000000    4.237000  "
      ]
     },
     "execution_count": 108,
     "metadata": {},
     "output_type": "execute_result"
    }
   ],
   "source": [
    "df_results_nopro.describe()"
   ]
  },
  {
   "cell_type": "markdown",
   "metadata": {},
   "source": [
    "Distribúcia dát  \n",
    "Pozrieme sa na distribúciu dát vo všetkých stĺpcoch, aby sme vedeli, ktoré atribúty má najväčší význam sledovať (ktorých rozdelenie má nejakú výpovednú hodnotu)  \n",
    "Stĺpce, ktoré budú mať hodnoty sústredené na jednom mieste, nebudeme uvažovať, keďže nám toho veľa nepovedia."
   ]
  },
  {
   "cell_type": "markdown",
   "metadata": {},
   "source": [
    "V stĺpci s vekom máme síce najviac zastúpených študentov (18-25 rokov), avšak sú tu aj staršie vekové kategórie, takže tento stĺpec môžeme uvažovať ako stĺpec s výpovednou hodnotou."
   ]
  },
  {
   "cell_type": "code",
   "execution_count": 109,
   "metadata": {},
   "outputs": [
    {
     "data": {
      "text/plain": [
       "<seaborn.axisgrid.FacetGrid at 0x1fd05197400>"
      ]
     },
     "execution_count": 109,
     "metadata": {},
     "output_type": "execute_result"
    },
    {
     "data": {
      "image/png": "[encoded data removed]",
      "text/plain": [
       "<Figure size 360x360 with 1 Axes>"
      ]
     },
     "metadata": {
      "needs_background": "light"
     },
     "output_type": "display_data"
    },
    {
     "data": {
      "image/png": "[encoded data removed]",
      "text/plain": [
       "<Figure size 360x360 with 1 Axes>"
      ]
     },
     "metadata": {
      "needs_background": "light"
     },
     "output_type": "display_data"
    }
   ],
   "source": [
    "sns.displot(data=df_results_pro, x=\"age\", kde=True, binwidth=1)\n",
    "sns.displot(data=df_results_nopro, x=\"age\", kde=True, binwidth=1)"
   ]
  },
  {
   "cell_type": "markdown",
   "metadata": {},
   "source": [
    "Stĺpec so známkami z programovania má dobrú distribúciu."
   ]
  },
  {
   "cell_type": "code",
   "execution_count": 110,
   "metadata": {},
   "outputs": [
    {
     "data": {
      "text/plain": [
       "<seaborn.axisgrid.FacetGrid at 0x1fd050c4370>"
      ]
     },
     "execution_count": 110,
     "metadata": {},
     "output_type": "execute_result"
    },
    {
     "data": {
      "image/png": "[encoded data removed]",
      "text/plain": [
       "<Figure size 360x360 with 1 Axes>"
      ]
     },
     "metadata": {
      "needs_background": "light"
     },
     "output_type": "display_data"
    }
   ],
   "source": [
    "sns.displot(data=df_results_pro, x=\"mark\", kde=True, binwidth=1)"
   ]
  },
  {
   "cell_type": "markdown",
   "metadata": {},
   "source": [
    "Stĺpec zručnosti programátora."
   ]
  },
  {
   "cell_type": "code",
   "execution_count": 111,
   "metadata": {},
   "outputs": [
    {
     "data": {
      "text/plain": [
       "<seaborn.axisgrid.FacetGrid at 0x1fd050593f0>"
      ]
     },
     "execution_count": 111,
     "metadata": {},
     "output_type": "execute_result"
    },
    {
     "data": {
      "image/png": "[encoded data removed]",
      "text/plain": [
       "<Figure size 360x360 with 1 Axes>"
      ]
     },
     "metadata": {
      "needs_background": "light"
     },
     "output_type": "display_data"
    }
   ],
   "source": [
    "sns.displot(data=df_results_pro, x=\"skill\", kde=True, binwidth=1)"
   ]
  },
  {
   "cell_type": "markdown",
   "metadata": {},
   "source": [
    "Stĺpec samostatnosti pri programovaní je skoro jednohlasný, preto ho v predspracovaní údajov vystrihneme a ďalej nebudeme uvažovať."
   ]
  },
  {
   "cell_type": "code",
   "execution_count": 112,
   "metadata": {},
   "outputs": [
    {
     "data": {
      "text/plain": [
       "<seaborn.axisgrid.FacetGrid at 0x1fd05b02e90>"
      ]
     },
     "execution_count": 112,
     "metadata": {},
     "output_type": "execute_result"
    },
    {
     "data": {
      "image/png": "[encoded data removed]",
      "text/plain": [
       "<Figure size 360x360 with 1 Axes>"
      ]
     },
     "metadata": {
      "needs_background": "light"
     },
     "output_type": "display_data"
    }
   ],
   "source": [
    "sns.displot(data=df_results_pro, x=\"independence\", kde=True, binwidth=1)"
   ]
  },
  {
   "cell_type": "markdown",
   "metadata": {},
   "source": [
    "Stĺpec vyjadrujúci motiváciu programátorov má tak isto nežiadúcu distribúciu, preto ho nebudeme uvažovať."
   ]
  },
  {
   "cell_type": "code",
   "execution_count": 113,
   "metadata": {},
   "outputs": [
    {
     "data": {
      "text/plain": [
       "<seaborn.axisgrid.FacetGrid at 0x1fd05b3f070>"
      ]
     },
     "execution_count": 113,
     "metadata": {},
     "output_type": "execute_result"
    },
    {
     "data": {
      "image/png": "[encoded data removed]",
      "text/plain": [
       "<Figure size 360x360 with 1 Axes>"
      ]
     },
     "metadata": {
      "needs_background": "light"
     },
     "output_type": "display_data"
    }
   ],
   "source": [
    "sns.displot(data=df_results_pro, x=\"motivation\", kde=True, binwidth=1)"
   ]
  },
  {
   "cell_type": "markdown",
   "metadata": {},
   "source": [
    "Stĺpec s dĺžkou skúsenosti s programovaním má dobré rozdelenie."
   ]
  },
  {
   "cell_type": "code",
   "execution_count": 114,
   "metadata": {},
   "outputs": [
    {
     "data": {
      "text/plain": [
       "<seaborn.axisgrid.FacetGrid at 0x1fd05be2a40>"
      ]
     },
     "execution_count": 114,
     "metadata": {},
     "output_type": "execute_result"
    },
    {
     "data": {
      "image/png": "[encoded data removed]",
      "text/plain": [
       "<Figure size 360x360 with 1 Axes>"
      ]
     },
     "metadata": {
      "needs_background": "light"
     },
     "output_type": "display_data"
    }
   ],
   "source": [
    "sns.displot(data=df_results_pro, x=\"experience_length\", kde=True, binwidth=1)"
   ]
  },
  {
   "cell_type": "markdown",
   "metadata": {},
   "source": [
    "Stĺpce s výsledkami aktivít majú taktiež prijateľnú distribúciu."
   ]
  },
  {
   "cell_type": "code",
   "execution_count": 115,
   "metadata": {},
   "outputs": [
    {
     "data": {
      "text/plain": [
       "<seaborn.axisgrid.FacetGrid at 0x1fd05cafac0>"
      ]
     },
     "execution_count": 115,
     "metadata": {},
     "output_type": "execute_result"
    },
    {
     "data": {
      "image/png": "[encoded data removed]",
      "text/plain": [
       "<Figure size 360x360 with 1 Axes>"
      ]
     },
     "metadata": {
      "needs_background": "light"
     },
     "output_type": "display_data"
    },
    {
     "data": {
      "image/png": "[encoded data removed]",
      "text/plain": [
       "<Figure size 360x360 with 1 Axes>"
      ]
     },
     "metadata": {
      "needs_background": "light"
     },
     "output_type": "display_data"
    },
    {
     "data": {
      "image/png": "[encoded data removed]",
      "text/plain": [
       "<Figure size 360x360 with 1 Axes>"
      ]
     },
     "metadata": {
      "needs_background": "light"
     },
     "output_type": "display_data"
    },
    {
     "data": {
      "image/png": "[encoded data removed]",
      "text/plain": [
       "<Figure size 360x360 with 1 Axes>"
      ]
     },
     "metadata": {
      "needs_background": "light"
     },
     "output_type": "display_data"
    },
    {
     "data": {
      "image/png": "[encoded data removed]",
      "text/plain": [
       "<Figure size 360x360 with 1 Axes>"
      ]
     },
     "metadata": {
      "needs_background": "light"
     },
     "output_type": "display_data"
    }
   ],
   "source": [
    "sns.displot(data=df_results_pro, x=\"activity_1\", kde=True, binwidth=0.1)\n",
    "sns.displot(data=df_results_pro, x=\"activity_2\", kde=True, binwidth=0.1)\n",
    "sns.displot(data=df_results_pro, x=\"activity_3\", kde=True, binwidth=0.1)\n",
    "sns.displot(data=df_results_pro, x=\"activity_4\", kde=True, binwidth=0.1)\n",
    "sns.displot(data=df_results_pro, x=\"activity_5\", kde=True, binwidth=0.1)"
   ]
  },
  {
   "cell_type": "markdown",
   "metadata": {},
   "source": [
    "Porovnáme výsledky programátorov s neprogramátormi a ďalej budeme pracovať len s dátami od programátorov."
   ]
  },
  {
   "cell_type": "code",
   "execution_count": 116,
   "metadata": {},
   "outputs": [
    {
     "name": "stdout",
     "output_type": "stream",
     "text": [
      "  Programmers   Non-programmers\n",
      "     3.632           3.638     activity_1\n",
      "     3.982           4.054     activity_2\n",
      "     4.299           4.341     activity_3\n",
      "     3.781           3.931     activity_4\n",
      "     2.961           2.863     activity_5\n"
     ]
    }
   ],
   "source": [
    "print(\"{: ^15} {: ^15}\".format(\"Programmers\",  \"Non-programmers\"))\n",
    "print(\"{: ^15} {: ^15}activity_1\".format(df_results_pro.mean().activity_1.round(3), df_results_nopro.mean().activity_1.round(3)))\n",
    "print(\"{: ^15} {: ^15}activity_2\".format(df_results_pro.mean().activity_2.round(3), df_results_nopro.mean().activity_2.round(3)))\n",
    "print(\"{: ^15} {: ^15}activity_3\".format(df_results_pro.mean().activity_3.round(3), df_results_nopro.mean().activity_3.round(3)))\n",
    "print(\"{: ^15} {: ^15}activity_4\".format(df_results_pro.mean().activity_4.round(3), df_results_nopro.mean().activity_4.round(3)))\n",
    "print(\"{: ^15} {: ^15}activity_5\".format(df_results_pro.mean().activity_5.round(3), df_results_nopro.mean().activity_5.round(3)))"
   ]
  },
  {
   "cell_type": "markdown",
   "metadata": {},
   "source": [
    "Vykonáme t-test dvoch vzoriek medzi programátormi a neprogramátormi, aby sme zistili, či sú signifikantne odlišní."
   ]
  },
  {
   "cell_type": "code",
   "execution_count": 117,
   "metadata": {},
   "outputs": [
    {
     "data": {
      "text/plain": [
       "Ttest_indResult(statistic=array([-0.05968917, -0.89849623, -0.33691447, -1.02660106,  0.6585505 ,\n",
       "        0.6470239 ]), pvalue=array([0.9525115 , 0.37088358, 0.73682334, 0.30686057, 0.51156052,\n",
       "       0.51896439]))"
      ]
     },
     "execution_count": 117,
     "metadata": {},
     "output_type": "execute_result"
    }
   ],
   "source": [
    "a = df_results_pro[[\"activity_1\", \"activity_2\", \"activity_3\", \"activity_4\", \"activity_5\", \"age\"]].to_numpy()\n",
    "b = df_results_nopro[[\"activity_1\", \"activity_2\", \"activity_3\", \"activity_4\", \"activity_5\", \"age\"]].to_numpy()\n",
    "stats.ttest_ind(a=a, b=b)"
   ]
  },
  {
   "cell_type": "markdown",
   "metadata": {},
   "source": [
    "Z výsledkov porovnania vidíme, že rozdiely medzi programátormi a neprogramátormi nie je markantný. Taktiež p-hodnoty v t-teste vyšli dostatočne vysoké (väčšie ako 0.05) na to, aby sme neprikladali signifikantnú váhu rozdielom medzi programátormi a neprogramátormi."
   ]
  },
  {
   "cell_type": "markdown",
   "metadata": {},
   "source": [
    "### 3. Predspracovanie dát"
   ]
  },
  {
   "cell_type": "markdown",
   "metadata": {},
   "source": [
    "Najskôr sa zbavíme nepotrebných stĺpcov (a taktiež stĺpcov s minimálnou výpovednou hodnotou)."
   ]
  },
  {
   "cell_type": "code",
   "execution_count": 118,
   "metadata": {},
   "outputs": [
    {
     "data": {
      "text/html": [
       "<div>\n",
       "<style scoped>\n",
       "    .dataframe tbody tr th:only-of-type {\n",
       "        vertical-align: middle;\n",
       "    }\n",
       "\n",
       "    .dataframe tbody tr th {\n",
       "        vertical-align: top;\n",
       "    }\n",
       "\n",
       "    .dataframe thead th {\n",
       "        text-align: right;\n",
       "    }\n",
       "</style>\n",
       "<table border=\"1\" class=\"dataframe\">\n",
       "  <thead>\n",
       "    <tr style=\"text-align: right;\">\n",
       "      <th></th>\n",
       "      <th>age</th>\n",
       "      <th>mood</th>\n",
       "      <th>mark</th>\n",
       "      <th>skill</th>\n",
       "      <th>experience_length</th>\n",
       "      <th>activity_1</th>\n",
       "      <th>activity_2</th>\n",
       "      <th>activity_3</th>\n",
       "      <th>activity_4</th>\n",
       "      <th>activity_5</th>\n",
       "    </tr>\n",
       "  </thead>\n",
       "  <tbody>\n",
       "    <tr>\n",
       "      <th>1</th>\n",
       "      <td>22</td>\n",
       "      <td>1</td>\n",
       "      <td>2</td>\n",
       "      <td>2</td>\n",
       "      <td>6</td>\n",
       "      <td>3.049</td>\n",
       "      <td>4.120</td>\n",
       "      <td>4.207</td>\n",
       "      <td>4.176</td>\n",
       "      <td>3.506</td>\n",
       "    </tr>\n",
       "    <tr>\n",
       "      <th>2</th>\n",
       "      <td>22</td>\n",
       "      <td>1</td>\n",
       "      <td>1</td>\n",
       "      <td>2</td>\n",
       "      <td>2</td>\n",
       "      <td>3.761</td>\n",
       "      <td>3.060</td>\n",
       "      <td>5.000</td>\n",
       "      <td>4.268</td>\n",
       "      <td>2.835</td>\n",
       "    </tr>\n",
       "    <tr>\n",
       "      <th>3</th>\n",
       "      <td>20</td>\n",
       "      <td>2</td>\n",
       "      <td>1</td>\n",
       "      <td>2</td>\n",
       "      <td>4</td>\n",
       "      <td>4.097</td>\n",
       "      <td>3.899</td>\n",
       "      <td>4.268</td>\n",
       "      <td>2.682</td>\n",
       "      <td>2.713</td>\n",
       "    </tr>\n",
       "    <tr>\n",
       "      <th>4</th>\n",
       "      <td>24</td>\n",
       "      <td>1</td>\n",
       "      <td>2</td>\n",
       "      <td>3</td>\n",
       "      <td>8</td>\n",
       "      <td>4.152</td>\n",
       "      <td>4.110</td>\n",
       "      <td>5.000</td>\n",
       "      <td>4.085</td>\n",
       "      <td>4.176</td>\n",
       "    </tr>\n",
       "    <tr>\n",
       "      <th>5</th>\n",
       "      <td>20</td>\n",
       "      <td>2</td>\n",
       "      <td>2</td>\n",
       "      <td>1</td>\n",
       "      <td>2</td>\n",
       "      <td>3.028</td>\n",
       "      <td>4.090</td>\n",
       "      <td>4.237</td>\n",
       "      <td>3.445</td>\n",
       "      <td>2.591</td>\n",
       "    </tr>\n",
       "    <tr>\n",
       "      <th>...</th>\n",
       "      <td>...</td>\n",
       "      <td>...</td>\n",
       "      <td>...</td>\n",
       "      <td>...</td>\n",
       "      <td>...</td>\n",
       "      <td>...</td>\n",
       "      <td>...</td>\n",
       "      <td>...</td>\n",
       "      <td>...</td>\n",
       "      <td>...</td>\n",
       "    </tr>\n",
       "    <tr>\n",
       "      <th>96</th>\n",
       "      <td>22</td>\n",
       "      <td>1</td>\n",
       "      <td>2</td>\n",
       "      <td>1</td>\n",
       "      <td>6</td>\n",
       "      <td>3.806</td>\n",
       "      <td>4.372</td>\n",
       "      <td>4.268</td>\n",
       "      <td>5.000</td>\n",
       "      <td>3.445</td>\n",
       "    </tr>\n",
       "    <tr>\n",
       "      <th>103</th>\n",
       "      <td>43</td>\n",
       "      <td>1</td>\n",
       "      <td>4</td>\n",
       "      <td>1</td>\n",
       "      <td>1</td>\n",
       "      <td>3.422</td>\n",
       "      <td>3.788</td>\n",
       "      <td>3.475</td>\n",
       "      <td>3.414</td>\n",
       "      <td>3.414</td>\n",
       "    </tr>\n",
       "    <tr>\n",
       "      <th>104</th>\n",
       "      <td>32</td>\n",
       "      <td>1</td>\n",
       "      <td>3</td>\n",
       "      <td>3</td>\n",
       "      <td>6</td>\n",
       "      <td>3.523</td>\n",
       "      <td>3.929</td>\n",
       "      <td>5.000</td>\n",
       "      <td>4.268</td>\n",
       "      <td>2.682</td>\n",
       "    </tr>\n",
       "    <tr>\n",
       "      <th>105</th>\n",
       "      <td>32</td>\n",
       "      <td>2</td>\n",
       "      <td>2</td>\n",
       "      <td>2</td>\n",
       "      <td>8</td>\n",
       "      <td>3.150</td>\n",
       "      <td>3.137</td>\n",
       "      <td>4.268</td>\n",
       "      <td>3.262</td>\n",
       "      <td>2.591</td>\n",
       "    </tr>\n",
       "    <tr>\n",
       "      <th>109</th>\n",
       "      <td>35</td>\n",
       "      <td>1</td>\n",
       "      <td>2</td>\n",
       "      <td>2</td>\n",
       "      <td>8</td>\n",
       "      <td>3.945</td>\n",
       "      <td>3.933</td>\n",
       "      <td>4.146</td>\n",
       "      <td>4.237</td>\n",
       "      <td>3.353</td>\n",
       "    </tr>\n",
       "  </tbody>\n",
       "</table>\n",
       "<p>86 rows × 10 columns</p>\n",
       "</div>"
      ],
      "text/plain": [
       "     age  mood  mark  skill  experience_length  activity_1  activity_2  \\\n",
       "1     22     1     2      2                  6       3.049       4.120   \n",
       "2     22     1     1      2                  2       3.761       3.060   \n",
       "3     20     2     1      2                  4       4.097       3.899   \n",
       "4     24     1     2      3                  8       4.152       4.110   \n",
       "5     20     2     2      1                  2       3.028       4.090   \n",
       "..   ...   ...   ...    ...                ...         ...         ...   \n",
       "96    22     1     2      1                  6       3.806       4.372   \n",
       "103   43     1     4      1                  1       3.422       3.788   \n",
       "104   32     1     3      3                  6       3.523       3.929   \n",
       "105   32     2     2      2                  8       3.150       3.137   \n",
       "109   35     1     2      2                  8       3.945       3.933   \n",
       "\n",
       "     activity_3  activity_4  activity_5  \n",
       "1         4.207       4.176       3.506  \n",
       "2         5.000       4.268       2.835  \n",
       "3         4.268       2.682       2.713  \n",
       "4         5.000       4.085       4.176  \n",
       "5         4.237       3.445       2.591  \n",
       "..          ...         ...         ...  \n",
       "96        4.268       5.000       3.445  \n",
       "103       3.475       3.414       3.414  \n",
       "104       5.000       4.268       2.682  \n",
       "105       4.268       3.262       2.591  \n",
       "109       4.146       4.237       3.353  \n",
       "\n",
       "[86 rows x 10 columns]"
      ]
     },
     "execution_count": 118,
     "metadata": {},
     "output_type": "execute_result"
    }
   ],
   "source": [
    "df_results_pro.pop(\"gender\")\n",
    "df_results_pro.pop(\"programming_experience\")\n",
    "df_results_pro.pop(\"independence\")\n",
    "df_results_pro.pop(\"motivation\")\n",
    "df_results_pro"
   ]
  },
  {
   "cell_type": "markdown",
   "metadata": {},
   "source": [
    "Následne transformujeme dáta pomocou mocninovej transformácie (power transform), vďaka čomu by mali naše dáta viacej pripomínať normálne (gaussove) rozdelenie, čo je vhodnejšie pre následnú analýzu. Taktiež nám to preškáluje dáta, čo vidíme aj na grafoch nižšie."
   ]
  },
  {
   "cell_type": "code",
   "execution_count": 119,
   "metadata": {},
   "outputs": [
    {
     "name": "stdout",
     "output_type": "stream",
     "text": [
      "Index(['age', 'mood', 'mark', 'skill', 'experience_length', 'activity_1',\n",
      "       'activity_2', 'activity_3', 'activity_4', 'activity_5'],\n",
      "      dtype='object')\n"
     ]
    },
    {
     "name": "stderr",
     "output_type": "stream",
     "text": [
      "C:\\Users\\Marek\\AppData\\Local\\Temp\\ipykernel_4456\\285532869.py:5: SettingWithCopyWarning: \n",
      "A value is trying to be set on a copy of a slice from a DataFrame.\n",
      "Try using .loc[row_indexer,col_indexer] = value instead\n",
      "\n",
      "See the caveats in the documentation: https://pandas.pydata.org/pandas-docs/stable/user_guide/indexing.html#returning-a-view-versus-a-copy\n",
      "  df_results_pro[cols] = transformer.fit_transform(df_results_pro[cols])\n"
     ]
    },
    {
     "data": {
      "text/html": [
       "<div>\n",
       "<style scoped>\n",
       "    .dataframe tbody tr th:only-of-type {\n",
       "        vertical-align: middle;\n",
       "    }\n",
       "\n",
       "    .dataframe tbody tr th {\n",
       "        vertical-align: top;\n",
       "    }\n",
       "\n",
       "    .dataframe thead th {\n",
       "        text-align: right;\n",
       "    }\n",
       "</style>\n",
       "<table border=\"1\" class=\"dataframe\">\n",
       "  <thead>\n",
       "    <tr style=\"text-align: right;\">\n",
       "      <th></th>\n",
       "      <th>age</th>\n",
       "      <th>mood</th>\n",
       "      <th>mark</th>\n",
       "      <th>skill</th>\n",
       "      <th>experience_length</th>\n",
       "      <th>activity_1</th>\n",
       "      <th>activity_2</th>\n",
       "      <th>activity_3</th>\n",
       "      <th>activity_4</th>\n",
       "      <th>activity_5</th>\n",
       "    </tr>\n",
       "  </thead>\n",
       "  <tbody>\n",
       "    <tr>\n",
       "      <th>1</th>\n",
       "      <td>-0.797506</td>\n",
       "      <td>-0.354795</td>\n",
       "      <td>0.030392</td>\n",
       "      <td>0.062945</td>\n",
       "      <td>0.305970</td>\n",
       "      <td>-1.288493</td>\n",
       "      <td>0.224806</td>\n",
       "      <td>-0.273071</td>\n",
       "      <td>0.602453</td>\n",
       "      <td>0.847973</td>\n",
       "    </tr>\n",
       "    <tr>\n",
       "      <th>2</th>\n",
       "      <td>-0.797506</td>\n",
       "      <td>-0.354795</td>\n",
       "      <td>-1.411861</td>\n",
       "      <td>0.062945</td>\n",
       "      <td>-1.337912</td>\n",
       "      <td>0.068317</td>\n",
       "      <td>-1.938429</td>\n",
       "      <td>1.318336</td>\n",
       "      <td>0.746026</td>\n",
       "      <td>-0.157945</td>\n",
       "    </tr>\n",
       "    <tr>\n",
       "      <th>3</th>\n",
       "      <td>-1.438584</td>\n",
       "      <td>1.243156</td>\n",
       "      <td>-1.411861</td>\n",
       "      <td>0.062945</td>\n",
       "      <td>-0.502274</td>\n",
       "      <td>1.077547</td>\n",
       "      <td>-0.609799</td>\n",
       "      <td>-0.165997</td>\n",
       "      <td>-1.672470</td>\n",
       "      <td>-0.349007</td>\n",
       "    </tr>\n",
       "    <tr>\n",
       "      <th>4</th>\n",
       "      <td>-0.301380</td>\n",
       "      <td>-0.354795</td>\n",
       "      <td>0.030392</td>\n",
       "      <td>1.339419</td>\n",
       "      <td>1.095475</td>\n",
       "      <td>1.271223</td>\n",
       "      <td>0.179916</td>\n",
       "      <td>1.318336</td>\n",
       "      <td>0.460806</td>\n",
       "      <td>1.787889</td>\n",
       "    </tr>\n",
       "    <tr>\n",
       "      <th>5</th>\n",
       "      <td>-1.438584</td>\n",
       "      <td>1.243156</td>\n",
       "      <td>0.030392</td>\n",
       "      <td>-0.998816</td>\n",
       "      <td>-1.337912</td>\n",
       "      <td>-1.316002</td>\n",
       "      <td>0.092358</td>\n",
       "      <td>-0.220717</td>\n",
       "      <td>-0.524647</td>\n",
       "      <td>-0.542878</td>\n",
       "    </tr>\n",
       "  </tbody>\n",
       "</table>\n",
       "</div>"
      ],
      "text/plain": [
       "        age      mood      mark     skill  experience_length  activity_1  \\\n",
       "1 -0.797506 -0.354795  0.030392  0.062945           0.305970   -1.288493   \n",
       "2 -0.797506 -0.354795 -1.411861  0.062945          -1.337912    0.068317   \n",
       "3 -1.438584  1.243156 -1.411861  0.062945          -0.502274    1.077547   \n",
       "4 -0.301380 -0.354795  0.030392  1.339419           1.095475    1.271223   \n",
       "5 -1.438584  1.243156  0.030392 -0.998816          -1.337912   -1.316002   \n",
       "\n",
       "   activity_2  activity_3  activity_4  activity_5  \n",
       "1    0.224806   -0.273071    0.602453    0.847973  \n",
       "2   -1.938429    1.318336    0.746026   -0.157945  \n",
       "3   -0.609799   -0.165997   -1.672470   -0.349007  \n",
       "4    0.179916    1.318336    0.460806    1.787889  \n",
       "5    0.092358   -0.220717   -0.524647   -0.542878  "
      ]
     },
     "execution_count": 119,
     "metadata": {},
     "output_type": "execute_result"
    },
    {
     "data": {
      "image/png": "[encoded data removed]",
      "text/plain": [
       "<Figure size 1296x864 with 12 Axes>"
      ]
     },
     "metadata": {
      "needs_background": "light"
     },
     "output_type": "display_data"
    },
    {
     "data": {
      "image/png": "[encoded data removed]",
      "text/plain": [
       "<Figure size 1296x864 with 12 Axes>"
      ]
     },
     "metadata": {
      "needs_background": "light"
     },
     "output_type": "display_data"
    }
   ],
   "source": [
    "df_results_pro.hist(figsize=(18, 12), bins=50)\n",
    "transformer = PowerTransformer(method=\"yeo-johnson\")\n",
    "cols = df_results_pro.columns\n",
    "print(cols)\n",
    "df_results_pro[cols] = transformer.fit_transform(df_results_pro[cols])\n",
    "df_results_pro.hist(figsize=(18, 12), bins=50)\n",
    "\n",
    "df_results_pro.head()"
   ]
  },
  {
   "cell_type": "markdown",
   "metadata": {},
   "source": [
    "Teraz odstránime vychýlené hodnoty (hodnoty, ktoré sú markantne odlišné oproti ostatným) pomocou metódy smerodajnej odchýlky. Pomocou odchýlky a priemeru si spravíme \"výsek\", mimo ktorého všetky hodnoty zahodíme. Túto metódu vykonáme nad stĺpcami s kognitívnimi aktivitami (keďže participant mohol mať napríklad problémy len pri jednej aktivite a podobne). Odstránenie vychýlených hodnôt robíme hlavne z dôvodu, že niekto mohol mať pri plnení aktivít zlý internet, podvádzať alebo ho to jednoducho prestalo baviť."
   ]
  },
  {
   "cell_type": "code",
   "execution_count": 120,
   "metadata": {},
   "outputs": [
    {
     "name": "stdout",
     "output_type": "stream",
     "text": [
      "Limits for outliers in column activity_1 are:  -2.5146628823293007 2.5146628823293007\n",
      "Number of data with outliers in column activity_1 86\n",
      "Number of data without outliers in column activity_1 86 \n",
      "\n",
      "Limits for outliers in column activity_2 are:  -2.5146628823293007 2.5146628823293007\n",
      "Number of data with outliers in column activity_2 86\n",
      "Number of data without outliers in column activity_2 86 \n",
      "\n",
      "Limits for outliers in column activity_3 are:  -2.5146628823293007 2.5146628823293007\n",
      "Number of data with outliers in column activity_3 86\n",
      "Number of data without outliers in column activity_3 85 \n",
      "\n",
      "Limits for outliers in column activity_4 are:  -2.5088238309403175 2.528817063414867\n",
      "Number of data with outliers in column activity_4 85\n",
      "Number of data without outliers in column activity_4 84 \n",
      "\n",
      "Limits for outliers in column activity_5 are:  -2.3861965195708517 2.474967255048147\n",
      "Number of data with outliers in column activity_5 84\n",
      "Number of data without outliers in column activity_5 84 \n",
      "\n"
     ]
    }
   ],
   "source": [
    "for i in df_results_pro.columns:\n",
    "    #exclude columns\n",
    "    if i in [\"mood\", \"age\", \"mark\", \"skill\", \"experience_length\"]:\n",
    "        continue\n",
    "    mean = df_results_pro[i].mean()\n",
    "    std = df_results_pro[i].std()\n",
    "\n",
    "    cut = std * 2.5\n",
    "    low_limit = mean - cut\n",
    "    up_limit = mean + cut \n",
    "    print(\"Limits for outliers in column\", i, \"are: \", low_limit, up_limit)\n",
    "    print(\"Number of data with outliers in column\", i, df_results_pro.shape[0])\n",
    "    df_results_pro = df_results_pro[(df_results_pro[i] > low_limit) & (df_results_pro[i] < up_limit)]\n",
    "    print(\"Number of data without outliers in column\", i, df_results_pro.shape[0], \"\\n\")"
   ]
  },
  {
   "cell_type": "markdown",
   "metadata": {},
   "source": [
    "Spojíme hodnoty z dotazníku do jedného \"programátorského skóre\" a taktiež hodnoty z aktivít do \"kognitívneho skóre\"."
   ]
  },
  {
   "cell_type": "code",
   "execution_count": 121,
   "metadata": {},
   "outputs": [
    {
     "data": {
      "text/html": [
       "<div>\n",
       "<style scoped>\n",
       "    .dataframe tbody tr th:only-of-type {\n",
       "        vertical-align: middle;\n",
       "    }\n",
       "\n",
       "    .dataframe tbody tr th {\n",
       "        vertical-align: top;\n",
       "    }\n",
       "\n",
       "    .dataframe thead th {\n",
       "        text-align: right;\n",
       "    }\n",
       "</style>\n",
       "<table border=\"1\" class=\"dataframe\">\n",
       "  <thead>\n",
       "    <tr style=\"text-align: right;\">\n",
       "      <th></th>\n",
       "      <th>age</th>\n",
       "      <th>mood</th>\n",
       "      <th>mark</th>\n",
       "      <th>skill</th>\n",
       "      <th>experience_length</th>\n",
       "      <th>activity_1</th>\n",
       "      <th>activity_2</th>\n",
       "      <th>activity_3</th>\n",
       "      <th>activity_4</th>\n",
       "      <th>activity_5</th>\n",
       "      <th>programming_score</th>\n",
       "      <th>cognitive_score</th>\n",
       "    </tr>\n",
       "  </thead>\n",
       "  <tbody>\n",
       "    <tr>\n",
       "      <th>count</th>\n",
       "      <td>84.000000</td>\n",
       "      <td>84.000000</td>\n",
       "      <td>84.000000</td>\n",
       "      <td>84.000000</td>\n",
       "      <td>84.000000</td>\n",
       "      <td>84.000000</td>\n",
       "      <td>84.000000</td>\n",
       "      <td>84.000000</td>\n",
       "      <td>84.000000</td>\n",
       "      <td>84.000000</td>\n",
       "      <td>84.000000</td>\n",
       "      <td>84.000000</td>\n",
       "    </tr>\n",
       "    <tr>\n",
       "      <th>mean</th>\n",
       "      <td>-0.001929</td>\n",
       "      <td>0.025578</td>\n",
       "      <td>0.016446</td>\n",
       "      <td>-0.016695</td>\n",
       "      <td>-0.007062</td>\n",
       "      <td>-0.005110</td>\n",
       "      <td>0.033774</td>\n",
       "      <td>0.035774</td>\n",
       "      <td>0.041691</td>\n",
       "      <td>0.044385</td>\n",
       "      <td>-0.000124</td>\n",
       "      <td>0.030103</td>\n",
       "    </tr>\n",
       "    <tr>\n",
       "      <th>std</th>\n",
       "      <td>1.017468</td>\n",
       "      <td>0.997598</td>\n",
       "      <td>1.005904</td>\n",
       "      <td>1.007075</td>\n",
       "      <td>1.009255</td>\n",
       "      <td>1.015929</td>\n",
       "      <td>0.990307</td>\n",
       "      <td>0.974661</td>\n",
       "      <td>0.970016</td>\n",
       "      <td>0.972233</td>\n",
       "      <td>0.515654</td>\n",
       "      <td>0.562210</td>\n",
       "    </tr>\n",
       "    <tr>\n",
       "      <th>min</th>\n",
       "      <td>-2.287582</td>\n",
       "      <td>-1.793723</td>\n",
       "      <td>-1.411861</td>\n",
       "      <td>-1.800159</td>\n",
       "      <td>-1.771780</td>\n",
       "      <td>-2.285436</td>\n",
       "      <td>-2.166420</td>\n",
       "      <td>-2.032218</td>\n",
       "      <td>-1.716940</td>\n",
       "      <td>-2.214584</td>\n",
       "      <td>-1.205338</td>\n",
       "      <td>-1.600501</td>\n",
       "    </tr>\n",
       "    <tr>\n",
       "      <th>25%</th>\n",
       "      <td>-0.797506</td>\n",
       "      <td>-0.354795</td>\n",
       "      <td>-0.330171</td>\n",
       "      <td>-0.998816</td>\n",
       "      <td>-0.502274</td>\n",
       "      <td>-0.921022</td>\n",
       "      <td>-0.787339</td>\n",
       "      <td>-0.299232</td>\n",
       "      <td>-0.571880</td>\n",
       "      <td>-0.542878</td>\n",
       "      <td>-0.217035</td>\n",
       "      <td>-0.378647</td>\n",
       "    </tr>\n",
       "    <tr>\n",
       "      <th>50%</th>\n",
       "      <td>-0.301380</td>\n",
       "      <td>-0.354795</td>\n",
       "      <td>0.030392</td>\n",
       "      <td>0.062945</td>\n",
       "      <td>-0.098152</td>\n",
       "      <td>0.060555</td>\n",
       "      <td>0.202361</td>\n",
       "      <td>-0.165997</td>\n",
       "      <td>0.013458</td>\n",
       "      <td>-0.253133</td>\n",
       "      <td>0.046668</td>\n",
       "      <td>0.101631</td>\n",
       "    </tr>\n",
       "    <tr>\n",
       "      <th>75%</th>\n",
       "      <td>0.898848</td>\n",
       "      <td>1.243156</td>\n",
       "      <td>0.838780</td>\n",
       "      <td>0.382063</td>\n",
       "      <td>1.095475</td>\n",
       "      <td>0.822233</td>\n",
       "      <td>0.831237</td>\n",
       "      <td>1.318336</td>\n",
       "      <td>0.697607</td>\n",
       "      <td>0.759409</td>\n",
       "      <td>0.046668</td>\n",
       "      <td>0.534866</td>\n",
       "    </tr>\n",
       "    <tr>\n",
       "      <th>max</th>\n",
       "      <td>1.913333</td>\n",
       "      <td>1.243156</td>\n",
       "      <td>2.025019</td>\n",
       "      <td>1.339419</td>\n",
       "      <td>1.095475</td>\n",
       "      <td>1.972186</td>\n",
       "      <td>1.811524</td>\n",
       "      <td>1.318336</td>\n",
       "      <td>1.900965</td>\n",
       "      <td>1.787889</td>\n",
       "      <td>1.352753</td>\n",
       "      <td>1.097742</td>\n",
       "    </tr>\n",
       "  </tbody>\n",
       "</table>\n",
       "</div>"
      ],
      "text/plain": [
       "             age       mood       mark      skill  experience_length  \\\n",
       "count  84.000000  84.000000  84.000000  84.000000          84.000000   \n",
       "mean   -0.001929   0.025578   0.016446  -0.016695          -0.007062   \n",
       "std     1.017468   0.997598   1.005904   1.007075           1.009255   \n",
       "min    -2.287582  -1.793723  -1.411861  -1.800159          -1.771780   \n",
       "25%    -0.797506  -0.354795  -0.330171  -0.998816          -0.502274   \n",
       "50%    -0.301380  -0.354795   0.030392   0.062945          -0.098152   \n",
       "75%     0.898848   1.243156   0.838780   0.382063           1.095475   \n",
       "max     1.913333   1.243156   2.025019   1.339419           1.095475   \n",
       "\n",
       "       activity_1  activity_2  activity_3  activity_4  activity_5  \\\n",
       "count   84.000000   84.000000   84.000000   84.000000   84.000000   \n",
       "mean    -0.005110    0.033774    0.035774    0.041691    0.044385   \n",
       "std      1.015929    0.990307    0.974661    0.970016    0.972233   \n",
       "min     -2.285436   -2.166420   -2.032218   -1.716940   -2.214584   \n",
       "25%     -0.921022   -0.787339   -0.299232   -0.571880   -0.542878   \n",
       "50%      0.060555    0.202361   -0.165997    0.013458   -0.253133   \n",
       "75%      0.822233    0.831237    1.318336    0.697607    0.759409   \n",
       "max      1.972186    1.811524    1.318336    1.900965    1.787889   \n",
       "\n",
       "       programming_score  cognitive_score  \n",
       "count          84.000000        84.000000  \n",
       "mean           -0.000124         0.030103  \n",
       "std             0.515654         0.562210  \n",
       "min            -1.205338        -1.600501  \n",
       "25%            -0.217035        -0.378647  \n",
       "50%             0.046668         0.101631  \n",
       "75%             0.046668         0.534866  \n",
       "max             1.352753         1.097742  "
      ]
     },
     "execution_count": 121,
     "metadata": {},
     "output_type": "execute_result"
    }
   ],
   "source": [
    "#calculate programming score\n",
    "df_results_pro[\"programming_score\"] = (df_results_pro[\"mark\"] + df_results_pro[\"skill\"]) / 2\n",
    "\n",
    "#calculate cognitive score (also to be in range of 0-1)\n",
    "df_results_pro[\"cognitive_score\"] = (df_results_pro[\"activity_1\"] + df_results_pro[\"activity_2\"] + df_results_pro[\"activity_3\"] + df_results_pro[\"activity_4\"] + df_results_pro[\"activity_5\"]) / 5\n",
    "\n",
    "df_results_pro.describe()\n",
    "#df_results_pro.corr()"
   ]
  },
  {
   "cell_type": "markdown",
   "metadata": {},
   "source": [
    "### 4. Výsledky\n",
    "Pozrime sa na absolútne hodnoty korelácií (sústredíme sa teraz na silu korelácie [svetlé hodnoty na heatmape], nie na to, či je korelácia priama/nepriama)"
   ]
  },
  {
   "cell_type": "code",
   "execution_count": 122,
   "metadata": {},
   "outputs": [
    {
     "data": {
      "image/png": "[encoded data removed]",
      "text/plain": [
       "<Figure size 1440x1080 with 2 Axes>"
      ]
     },
     "metadata": {
      "needs_background": "light"
     },
     "output_type": "display_data"
    }
   ],
   "source": [
    "#korelacie\n",
    "df_results_pro.corr()\n",
    "plt.subplots(figsize=(20,15))\n",
    "dataplot = sns.heatmap(abs(df_results_pro.corr()), annot=True)"
   ]
  },
  {
   "cell_type": "markdown",
   "metadata": {},
   "source": [
    "Z heatmapy vidíme, že vek nám pekne koreluje s niektorými aktivitami. Pomocou grafov sa pozrieme, či sú tieto korelácie kladné alebo záporné."
   ]
  },
  {
   "cell_type": "code",
   "execution_count": 123,
   "metadata": {},
   "outputs": [
    {
     "data": {
      "text/plain": [
       "<seaborn.axisgrid.FacetGrid at 0x1fd7a4a60e0>"
      ]
     },
     "execution_count": 123,
     "metadata": {},
     "output_type": "execute_result"
    },
    {
     "data": {
      "image/png": "[encoded data removed]",
      "text/plain": [
       "<Figure size 360x360 with 1 Axes>"
      ]
     },
     "metadata": {
      "needs_background": "light"
     },
     "output_type": "display_data"
    },
    {
     "data": {
      "image/png": "[encoded data removed]",
      "text/plain": [
       "<Figure size 360x360 with 1 Axes>"
      ]
     },
     "metadata": {
      "needs_background": "light"
     },
     "output_type": "display_data"
    },
    {
     "data": {
      "image/png": "[encoded data removed]",
      "text/plain": [
       "<Figure size 360x360 with 1 Axes>"
      ]
     },
     "metadata": {
      "needs_background": "light"
     },
     "output_type": "display_data"
    },
    {
     "data": {
      "image/png": "[encoded data removed]",
      "text/plain": [
       "<Figure size 360x360 with 1 Axes>"
      ]
     },
     "metadata": {
      "needs_background": "light"
     },
     "output_type": "display_data"
    }
   ],
   "source": [
    "sns.lmplot(x=\"age\", y=\"activity_1\", data=df_results_pro)\n",
    "sns.lmplot(x=\"age\", y=\"activity_3\", data=df_results_pro)\n",
    "sns.lmplot(x=\"age\", y=\"activity_4\", data=df_results_pro)\n",
    "sns.lmplot(x=\"age\", y=\"cognitive_score\", data=df_results_pro)"
   ]
  },
  {
   "cell_type": "markdown",
   "metadata": {},
   "source": [
    "Všetky sú zaporné, teda s pribúdajúcim vekom mali participanti v našich aktivitách nižšie skóre. To podporujú aj iné výskumy, ktoré hovoria, že s pribúdajúcim vekom naše kognitívne funkcie oslabujú. Je teda pravdepodobné, že našim kognitívnym aktivitám sa úspešne podarilo namerať kognitívne funckie participantov."
   ]
  },
  {
   "cell_type": "markdown",
   "metadata": {},
   "source": [
    "### Lineárna regresia\n",
    "\n",
    "Lineárnou regresiou otestujeme závislosť programátorských zručností od kognitívnych funkcií. Aby sme vedeli reprezentovať výsledky regresie, stanovíme si nulovú hypotézu a ku nej alternatívnu hypotézu.  \n",
    "Nulová hypotéza:  \n",
    "*\"Kognitívne funkcie nemajú pozitívnu závislosť s programátorskou zručnosťou.\"*  \n",
    "Alternatívna hypotéza:  \n",
    "*\"Kognitívne funkcie majú pozitívnu závislosť s programátorskou zručnosťou.\"*  \n",
    "Pre testovanie týchto hypotéz využijeme p hodnotu ktorú dostaneme pomocou lineárnej regresie medzi relevantnými údajmi z programátorského dotazníku (stĺpce \"skill\" a \"mark\") a výsledkami kognitívnych aktivít."
   ]
  },
  {
   "cell_type": "code",
   "execution_count": 124,
   "metadata": {},
   "outputs": [
    {
     "name": "stdout",
     "output_type": "stream",
     "text": [
      "                            OLS Regression Results                            \n",
      "==============================================================================\n",
      "Dep. Variable:                   mark   R-squared:                       0.044\n",
      "Model:                            OLS   Adj. R-squared:                 -0.018\n",
      "Method:                 Least Squares   F-statistic:                    0.7124\n",
      "Date:                Fri, 13 May 2022   Prob (F-statistic):              0.616\n",
      "Time:                        19:53:37   Log-Likelihood:                -117.31\n",
      "No. Observations:                  84   AIC:                             246.6\n",
      "Df Residuals:                      78   BIC:                             261.2\n",
      "Df Model:                           5                                         \n",
      "Covariance Type:            nonrobust                                         \n",
      "===================================================================================\n",
      "                      coef    std err          t      P>|t|      [0.025      0.975]\n",
      "-----------------------------------------------------------------------------------\n",
      "const               0.0217      0.111      0.195      0.846      -0.199       0.243\n",
      "activity_1         -0.0462      0.123     -0.375      0.709      -0.291       0.199\n",
      "activity_2         -0.0999      0.128     -0.778      0.439      -0.355       0.156\n",
      "activity_3         -0.1384      0.113     -1.221      0.226      -0.364       0.087\n",
      "activity_4          0.0507      0.120      0.423      0.673      -0.188       0.289\n",
      "activity_5          0.0430      0.126      0.341      0.734      -0.208       0.294\n",
      "cognitive_score    -0.0381      0.034     -1.130      0.262      -0.105       0.029\n",
      "==============================================================================\n",
      "Omnibus:                        2.378   Durbin-Watson:                   2.094\n",
      "Prob(Omnibus):                  0.305   Jarque-Bera (JB):                1.540\n",
      "Skew:                           0.016   Prob(JB):                        0.463\n",
      "Kurtosis:                       2.337   Cond. No.                     2.07e+16\n",
      "==============================================================================\n",
      "\n",
      "Notes:\n",
      "[1] Standard Errors assume that the covariance matrix of the errors is correctly specified.\n",
      "[2] The smallest eigenvalue is 3.81e-31. This might indicate that there are\n",
      "strong multicollinearity problems or that the design matrix is singular.\n",
      "const              0.845817\n",
      "activity_1         0.708576\n",
      "activity_2         0.438734\n",
      "activity_3         0.225929\n",
      "activity_4         0.673109\n",
      "activity_5         0.733843\n",
      "cognitive_score    0.261834\n",
      "dtype: float64\n"
     ]
    }
   ],
   "source": [
    "y = df_results_pro[\"mark\"]\n",
    "x = df_results_pro[[\"activity_1\",\"activity_2\",\"activity_3\",\"activity_4\",\"activity_5\", \"cognitive_score\"]]\n",
    "\n",
    "x = sm.add_constant(x)\n",
    "\n",
    "linear_regression = sm.OLS(y, x).fit()\n",
    "\n",
    "print(linear_regression.summary())\n",
    "print(linear_regression.pvalues)"
   ]
  },
  {
   "cell_type": "markdown",
   "metadata": {},
   "source": [
    "Teraz skúsime použiť stĺpec \"skill\"."
   ]
  },
  {
   "cell_type": "code",
   "execution_count": 125,
   "metadata": {},
   "outputs": [
    {
     "name": "stdout",
     "output_type": "stream",
     "text": [
      "                            OLS Regression Results                            \n",
      "==============================================================================\n",
      "Dep. Variable:                  skill   R-squared:                       0.046\n",
      "Model:                            OLS   Adj. R-squared:                 -0.015\n",
      "Method:                 Least Squares   F-statistic:                    0.7511\n",
      "Date:                Fri, 13 May 2022   Prob (F-statistic):              0.588\n",
      "Time:                        19:53:37   Log-Likelihood:                -117.31\n",
      "No. Observations:                  84   AIC:                             246.6\n",
      "Df Residuals:                      78   BIC:                             261.2\n",
      "Df Model:                           5                                         \n",
      "Covariance Type:            nonrobust                                         \n",
      "===================================================================================\n",
      "                      coef    std err          t      P>|t|      [0.025      0.975]\n",
      "-----------------------------------------------------------------------------------\n",
      "const              -0.0140      0.111     -0.126      0.900      -0.235       0.207\n",
      "activity_1          0.1044      0.123      0.847      0.399      -0.141       0.350\n",
      "activity_2          0.0809      0.128      0.631      0.530      -0.175       0.336\n",
      "activity_3          0.0356      0.113      0.314      0.755      -0.190       0.261\n",
      "activity_4         -0.1379      0.120     -1.150      0.253      -0.376       0.101\n",
      "activity_5         -0.0185      0.126     -0.147      0.884      -0.269       0.232\n",
      "cognitive_score     0.0129      0.034      0.382      0.703      -0.054       0.080\n",
      "==============================================================================\n",
      "Omnibus:                        4.513   Durbin-Watson:                   2.264\n",
      "Prob(Omnibus):                  0.105   Jarque-Bera (JB):                2.755\n",
      "Skew:                          -0.240   Prob(JB):                        0.252\n",
      "Kurtosis:                       2.254   Cond. No.                     2.07e+16\n",
      "==============================================================================\n",
      "\n",
      "Notes:\n",
      "[1] Standard Errors assume that the covariance matrix of the errors is correctly specified.\n",
      "[2] The smallest eigenvalue is 3.81e-31. This might indicate that there are\n",
      "strong multicollinearity problems or that the design matrix is singular.\n",
      "const              0.900053\n",
      "activity_1         0.399429\n",
      "activity_2         0.530151\n",
      "activity_3         0.754618\n",
      "activity_4         0.253473\n",
      "activity_5         0.883807\n",
      "cognitive_score    0.703304\n",
      "dtype: float64\n"
     ]
    }
   ],
   "source": [
    "y = df_results_pro[\"skill\"]\n",
    "x = df_results_pro[[\"activity_1\",\"activity_2\",\"activity_3\",\"activity_4\",\"activity_5\", \"cognitive_score\"]]\n",
    "\n",
    "x = sm.add_constant(x)\n",
    "\n",
    "linear_regression = sm.OLS(y, x).fit()\n",
    "\n",
    "print(linear_regression.summary())\n",
    "print(linear_regression.pvalues)"
   ]
  },
  {
   "cell_type": "markdown",
   "metadata": {},
   "source": [
    "Keďže všetky p hodnoty sú väčšie ako 0.05, podporuje to, že pri zopakovaní experimentu by sme dosiahli iné výsledky, čo znamená, že závislosti, ktoré sme namerali, môžu byť náhodné. Toto naznačuje, že nulová hypotéza by mohla byť pravdivá. Treba však podotknúť, že hypotéza je platná len pre naše dáta. Najmenšia p hodnota bola pri aktivite 4, ktorá patrí medzi aktivity zamerané na pamäť.  \n",
    "  \n",
    "Na záver si vyskúšame stanoviť ešte jednu dvojicu hypotéz.  \n",
    "Nulová hypotéza:  \n",
    "*\"Vek nevplýva na výkonnosť kognitívnych funkcií.\"*  \n",
    "Alternatívna hypotéza:  \n",
    "*\"Vek vplýva na výkonnosť kognitívnych funkcií.\"*  \n",
    "Následne znovu overíme tieto hypotézy pomocou lineárnej regresie."
   ]
  },
  {
   "cell_type": "code",
   "execution_count": 126,
   "metadata": {},
   "outputs": [
    {
     "name": "stdout",
     "output_type": "stream",
     "text": [
      "                            OLS Regression Results                            \n",
      "==============================================================================\n",
      "Dep. Variable:                    age   R-squared:                       0.203\n",
      "Model:                            OLS   Adj. R-squared:                  0.152\n",
      "Method:                 Least Squares   F-statistic:                     3.969\n",
      "Date:                Fri, 13 May 2022   Prob (F-statistic):            0.00293\n",
      "Time:                        19:53:37   Log-Likelihood:                -110.62\n",
      "No. Observations:                  84   AIC:                             233.2\n",
      "Df Residuals:                      78   BIC:                             247.8\n",
      "Df Model:                           5                                         \n",
      "Covariance Type:            nonrobust                                         \n",
      "===================================================================================\n",
      "                      coef    std err          t      P>|t|      [0.025      0.975]\n",
      "-----------------------------------------------------------------------------------\n",
      "const               0.0166      0.103      0.162      0.871      -0.187       0.221\n",
      "activity_1         -0.1881      0.114     -1.654      0.102      -0.415       0.038\n",
      "activity_2         -0.1621      0.118     -1.368      0.175      -0.398       0.074\n",
      "activity_3         -0.1889      0.105     -1.804      0.075      -0.397       0.020\n",
      "activity_4         -0.2249      0.111     -2.032      0.046      -0.445      -0.005\n",
      "activity_5          0.1323      0.116      1.137      0.259      -0.099       0.364\n",
      "cognitive_score    -0.1263      0.031     -4.053      0.000      -0.188      -0.064\n",
      "==============================================================================\n",
      "Omnibus:                        2.788   Durbin-Watson:                   1.568\n",
      "Prob(Omnibus):                  0.248   Jarque-Bera (JB):                1.750\n",
      "Skew:                           0.088   Prob(JB):                        0.417\n",
      "Kurtosis:                       2.315   Cond. No.                     2.07e+16\n",
      "==============================================================================\n",
      "\n",
      "Notes:\n",
      "[1] Standard Errors assume that the covariance matrix of the errors is correctly specified.\n",
      "[2] The smallest eigenvalue is 3.81e-31. This might indicate that there are\n",
      "strong multicollinearity problems or that the design matrix is singular.\n",
      "const              0.871406\n",
      "activity_1         0.102195\n",
      "activity_2         0.175204\n",
      "activity_3         0.075165\n",
      "activity_4         0.045543\n",
      "activity_5         0.259109\n",
      "cognitive_score    0.000119\n",
      "dtype: float64\n"
     ]
    }
   ],
   "source": [
    "y = df_results_pro[\"age\"]\n",
    "x = df_results_pro[[\"activity_1\",\"activity_2\",\"activity_3\",\"activity_4\",\"activity_5\", \"cognitive_score\"]]\n",
    "\n",
    "x = sm.add_constant(x)\n",
    "\n",
    "linear_regression = sm.OLS(y, x).fit()\n",
    "\n",
    "print(linear_regression.summary())\n",
    "print(linear_regression.pvalues)"
   ]
  },
  {
   "cell_type": "markdown",
   "metadata": {},
   "source": [
    "Z výsledkov vidíme, že p hodnota je nižšia ako 0.05 v stĺpci s aktivitou 4 (aktivita zameraná na pamäť) a taktiež v stĺpci s celkovým kognitívnym skóre. To naznačuje, že vplyv týchto aktivít na vek nie je náhodný a potvrdzujeme, že vek vplýva na výkonnosť kognitívnych funkcií."
   ]
  },
  {
   "cell_type": "markdown",
   "metadata": {},
   "source": [
    "V nasledujúcej časti vyskúšame predikovať vek participantov podľa ich dosiahnutého skóre v kognitívnych aktivitách. Aby sme vedeli povedať, ako presne vieme predikovať vek (o koľko rokov sa budeme v priemere mýliť), musíme si najskôr upraviť dáta do pôvodného stavu (vykonať inverznú transformáciu)."
   ]
  },
  {
   "cell_type": "code",
   "execution_count": 127,
   "metadata": {},
   "outputs": [
    {
     "data": {
      "text/html": [
       "<div>\n",
       "<style scoped>\n",
       "    .dataframe tbody tr th:only-of-type {\n",
       "        vertical-align: middle;\n",
       "    }\n",
       "\n",
       "    .dataframe tbody tr th {\n",
       "        vertical-align: top;\n",
       "    }\n",
       "\n",
       "    .dataframe thead th {\n",
       "        text-align: right;\n",
       "    }\n",
       "</style>\n",
       "<table border=\"1\" class=\"dataframe\">\n",
       "  <thead>\n",
       "    <tr style=\"text-align: right;\">\n",
       "      <th></th>\n",
       "      <th>age</th>\n",
       "      <th>mood</th>\n",
       "      <th>mark</th>\n",
       "      <th>skill</th>\n",
       "      <th>experience_length</th>\n",
       "      <th>activity_1</th>\n",
       "      <th>activity_2</th>\n",
       "      <th>activity_3</th>\n",
       "      <th>activity_4</th>\n",
       "      <th>activity_5</th>\n",
       "    </tr>\n",
       "  </thead>\n",
       "  <tbody>\n",
       "    <tr>\n",
       "      <th>0</th>\n",
       "      <td>22.0</td>\n",
       "      <td>1.0</td>\n",
       "      <td>2.0</td>\n",
       "      <td>2.0</td>\n",
       "      <td>6.0</td>\n",
       "      <td>3.049</td>\n",
       "      <td>4.120</td>\n",
       "      <td>4.207</td>\n",
       "      <td>4.176</td>\n",
       "      <td>3.506</td>\n",
       "    </tr>\n",
       "    <tr>\n",
       "      <th>1</th>\n",
       "      <td>22.0</td>\n",
       "      <td>1.0</td>\n",
       "      <td>1.0</td>\n",
       "      <td>2.0</td>\n",
       "      <td>2.0</td>\n",
       "      <td>3.761</td>\n",
       "      <td>3.060</td>\n",
       "      <td>5.000</td>\n",
       "      <td>4.268</td>\n",
       "      <td>2.835</td>\n",
       "    </tr>\n",
       "    <tr>\n",
       "      <th>2</th>\n",
       "      <td>20.0</td>\n",
       "      <td>2.0</td>\n",
       "      <td>1.0</td>\n",
       "      <td>2.0</td>\n",
       "      <td>4.0</td>\n",
       "      <td>4.097</td>\n",
       "      <td>3.899</td>\n",
       "      <td>4.268</td>\n",
       "      <td>2.682</td>\n",
       "      <td>2.713</td>\n",
       "    </tr>\n",
       "    <tr>\n",
       "      <th>3</th>\n",
       "      <td>24.0</td>\n",
       "      <td>1.0</td>\n",
       "      <td>2.0</td>\n",
       "      <td>3.0</td>\n",
       "      <td>8.0</td>\n",
       "      <td>4.152</td>\n",
       "      <td>4.110</td>\n",
       "      <td>5.000</td>\n",
       "      <td>4.085</td>\n",
       "      <td>4.176</td>\n",
       "    </tr>\n",
       "    <tr>\n",
       "      <th>4</th>\n",
       "      <td>20.0</td>\n",
       "      <td>2.0</td>\n",
       "      <td>2.0</td>\n",
       "      <td>1.0</td>\n",
       "      <td>2.0</td>\n",
       "      <td>3.028</td>\n",
       "      <td>4.090</td>\n",
       "      <td>4.237</td>\n",
       "      <td>3.445</td>\n",
       "      <td>2.591</td>\n",
       "    </tr>\n",
       "    <tr>\n",
       "      <th>...</th>\n",
       "      <td>...</td>\n",
       "      <td>...</td>\n",
       "      <td>...</td>\n",
       "      <td>...</td>\n",
       "      <td>...</td>\n",
       "      <td>...</td>\n",
       "      <td>...</td>\n",
       "      <td>...</td>\n",
       "      <td>...</td>\n",
       "      <td>...</td>\n",
       "    </tr>\n",
       "    <tr>\n",
       "      <th>79</th>\n",
       "      <td>22.0</td>\n",
       "      <td>1.0</td>\n",
       "      <td>2.0</td>\n",
       "      <td>1.0</td>\n",
       "      <td>6.0</td>\n",
       "      <td>3.806</td>\n",
       "      <td>4.372</td>\n",
       "      <td>4.268</td>\n",
       "      <td>5.000</td>\n",
       "      <td>3.445</td>\n",
       "    </tr>\n",
       "    <tr>\n",
       "      <th>80</th>\n",
       "      <td>43.0</td>\n",
       "      <td>1.0</td>\n",
       "      <td>4.0</td>\n",
       "      <td>1.0</td>\n",
       "      <td>1.0</td>\n",
       "      <td>3.422</td>\n",
       "      <td>3.788</td>\n",
       "      <td>3.475</td>\n",
       "      <td>3.414</td>\n",
       "      <td>3.414</td>\n",
       "    </tr>\n",
       "    <tr>\n",
       "      <th>81</th>\n",
       "      <td>32.0</td>\n",
       "      <td>1.0</td>\n",
       "      <td>3.0</td>\n",
       "      <td>3.0</td>\n",
       "      <td>6.0</td>\n",
       "      <td>3.523</td>\n",
       "      <td>3.929</td>\n",
       "      <td>5.000</td>\n",
       "      <td>4.268</td>\n",
       "      <td>2.682</td>\n",
       "    </tr>\n",
       "    <tr>\n",
       "      <th>82</th>\n",
       "      <td>32.0</td>\n",
       "      <td>2.0</td>\n",
       "      <td>2.0</td>\n",
       "      <td>2.0</td>\n",
       "      <td>8.0</td>\n",
       "      <td>3.150</td>\n",
       "      <td>3.137</td>\n",
       "      <td>4.268</td>\n",
       "      <td>3.262</td>\n",
       "      <td>2.591</td>\n",
       "    </tr>\n",
       "    <tr>\n",
       "      <th>83</th>\n",
       "      <td>35.0</td>\n",
       "      <td>1.0</td>\n",
       "      <td>2.0</td>\n",
       "      <td>2.0</td>\n",
       "      <td>8.0</td>\n",
       "      <td>3.945</td>\n",
       "      <td>3.933</td>\n",
       "      <td>4.146</td>\n",
       "      <td>4.237</td>\n",
       "      <td>3.353</td>\n",
       "    </tr>\n",
       "  </tbody>\n",
       "</table>\n",
       "<p>84 rows × 10 columns</p>\n",
       "</div>"
      ],
      "text/plain": [
       "     age  mood  mark  skill  experience_length  activity_1  activity_2  \\\n",
       "0   22.0   1.0   2.0    2.0                6.0       3.049       4.120   \n",
       "1   22.0   1.0   1.0    2.0                2.0       3.761       3.060   \n",
       "2   20.0   2.0   1.0    2.0                4.0       4.097       3.899   \n",
       "3   24.0   1.0   2.0    3.0                8.0       4.152       4.110   \n",
       "4   20.0   2.0   2.0    1.0                2.0       3.028       4.090   \n",
       "..   ...   ...   ...    ...                ...         ...         ...   \n",
       "79  22.0   1.0   2.0    1.0                6.0       3.806       4.372   \n",
       "80  43.0   1.0   4.0    1.0                1.0       3.422       3.788   \n",
       "81  32.0   1.0   3.0    3.0                6.0       3.523       3.929   \n",
       "82  32.0   2.0   2.0    2.0                8.0       3.150       3.137   \n",
       "83  35.0   1.0   2.0    2.0                8.0       3.945       3.933   \n",
       "\n",
       "    activity_3  activity_4  activity_5  \n",
       "0        4.207       4.176       3.506  \n",
       "1        5.000       4.268       2.835  \n",
       "2        4.268       2.682       2.713  \n",
       "3        5.000       4.085       4.176  \n",
       "4        4.237       3.445       2.591  \n",
       "..         ...         ...         ...  \n",
       "79       4.268       5.000       3.445  \n",
       "80       3.475       3.414       3.414  \n",
       "81       5.000       4.268       2.682  \n",
       "82       4.268       3.262       2.591  \n",
       "83       4.146       4.237       3.353  \n",
       "\n",
       "[84 rows x 10 columns]"
      ]
     },
     "execution_count": 127,
     "metadata": {},
     "output_type": "execute_result"
    }
   ],
   "source": [
    "df_results_pro = df_results_pro.drop(['cognitive_score', 'programming_score'], axis=1)\n",
    "cols = df_results_pro.columns\n",
    "\n",
    "arr_results_pro = transformer.inverse_transform(df_results_pro)\n",
    "#returned array so we need to make dataframe again\n",
    "df_results_pro = pd.DataFrame(arr_results_pro, columns = cols)\n",
    "\n",
    "df_results_pro"
   ]
  },
  {
   "cell_type": "markdown",
   "metadata": {},
   "source": [
    "Použijeme stratégiu \"leave 1 out\", pri ktorej vždy jeden záznam necháme ako testovací a na všetkých ostatných natrénujeme model. Tento proces zopakujeme pre všetky záznamy a chyby spriemerujeme. Táto stratégia je vhodná pre menšie datasety, keďže je výpočtovo náročnejšia."
   ]
  },
  {
   "cell_type": "code",
   "execution_count": 128,
   "metadata": {},
   "outputs": [
    {
     "name": "stdout",
     "output_type": "stream",
     "text": [
      "Average error: 5.881\n",
      "count    84.000000\n",
      "mean      5.880952\n",
      "std       4.571796\n",
      "min       0.000000\n",
      "25%       3.000000\n",
      "50%       5.000000\n",
      "75%       8.000000\n",
      "max      22.000000\n",
      "dtype: float64\n"
     ]
    },
    {
     "data": {
      "text/plain": [
       "<seaborn.axisgrid.FacetGrid at 0x1fd05137430>"
      ]
     },
     "execution_count": 128,
     "metadata": {},
     "output_type": "execute_result"
    },
    {
     "data": {
      "image/png": "[encoded data removed]",
      "text/plain": [
       "<Figure size 360x360 with 1 Axes>"
      ]
     },
     "metadata": {
      "needs_background": "light"
     },
     "output_type": "display_data"
    }
   ],
   "source": [
    "results = []\n",
    "df_results_pro = sm.add_constant(df_results_pro)\n",
    "df_results_pro.insert(0, \"loo_id\", range(len(df_results_pro)))\n",
    "#print(df_results_pro)\n",
    "\n",
    "for i in range(len(df_results_pro)):\n",
    "    #data preparation\n",
    "    df_train = df_results_pro[df_results_pro[\"loo_id\"] != i]\n",
    "    df_test = df_results_pro[df_results_pro[\"loo_id\"] == i]\n",
    "    correct_value = round(df_test[\"age\"].iloc[0], 3)\n",
    "    df_test = df_test[[\"activity_1\", \"activity_2\", \"activity_3\", \"activity_4\", \"activity_5\", \"const\"]]\n",
    "\n",
    "    #linear regression\n",
    "    y = df_train[\"age\"]\n",
    "    x = df_train[[\"activity_1\", \"activity_2\", \"activity_3\", \"activity_4\", \"activity_5\", \"const\"]]\n",
    "    linear_regression = sm.OLS(y, x).fit()\n",
    "\n",
    "    #prediction and result\n",
    "    singleResult = round(linear_regression.predict(df_test).iloc[0], 3)\n",
    "    err = round(abs(singleResult - correct_value))\n",
    "\n",
    "    #print(\"\\nPrediction:\", singleResult, \"\\nCorrect:\", correct_value, \"\\nDifference:\", err, 3)\n",
    "    results.append(err)\n",
    "    \n",
    "print(\"Average error:\", round(sum(results) / len(results), 3))\n",
    "\n",
    "descriptive = pd.Series(results)\n",
    "print(descriptive.describe())\n",
    "sns.displot(descriptive)"
   ]
  },
  {
   "cell_type": "markdown",
   "metadata": {},
   "source": [
    "Náš model dokáže predikovať vek na základe výsledkov z aktivít s priemernou odchýlkou 5.88 roka. Štandardná odchýlka je 4.57."
   ]
  },
  {
   "cell_type": "markdown",
   "metadata": {},
   "source": [
    "### 5. Zistenia, limitácie a odporúčania pre budúci výskum"
   ]
  },
  {
   "cell_type": "markdown",
   "metadata": {},
   "source": [
    "- Nepodarilo sa nám nájsť veľkú koreláciu medzi našimi kognitívnymi aktivitami a programátorským skóre z dotazníku.\n",
    "  - Budúcemu výskumu odporúčame viacej sa sústrediť na zmeranie programátorských zručností, či už pomocou aktivít alebo programátorského testu.\n",
    "- Výsledky našich kognitívnych aktivít sú v zápornej korelácií s vekom participantov, z čoho usudzujeme, že správne zachytávajú užívateľove kognitívne funkcie (keďže je dokázané, že s pribúdajúcim vekom sú kognitívne funkcie slabšie)\n",
    "  - Odporúčame využívať podobné aktivity na zmeranie kognitívnych funkcií (obzvlášť aktivity č.3 a č.4, ktoré boli zamerané na krátkodobú pamäť)\n",
    "- Participanti mali lepšie skóre v aktivite č.2 oproti aktivite č.1, ktorá mala byť ľahšia (obsahovala len 2 farby). Vysvetľujeme si to tak, že užívateľom nejakú dobu trvá, kým si na danú aktivitu zvyknú.\n",
    "  - Neodporúčame hodnotiť užívateľov na základe prvých pokusov v danej aktivite, keďže ich skóre môže byť ovplyvnené tým, že sa danú aktivitu \"učia\".\n",
    "  - Napriek tomu, že v našich aktivitách sme prvé 2 kolá nerátali do výsledku, \"ťažšia\" aktivita stále dopadla lepšie.\n",
    "  - Tento problém sa vyskytol len v aktivitách, kde sa počítalo skóre podľa času.\n",
    "- Pamäťové aktivity dosahovali vyššiu koreláciu s programátorskou zručnosťou."
   ]
  }
 ],
 "metadata": {
  "interpreter": {
   "hash": "e6506c52b46facde4b71b1f0161930b43e5f92bfc7b168d073bf217bb7c7739e"
  },
  "kernelspec": {
   "display_name": "Python 3.10.0 64-bit",
   "language": "python",
   "name": "python3"
  },
  "language_info": {
   "codemirror_mode": {
    "name": "ipython",
    "version": 3
   },
   "file_extension": ".py",
   "mimetype": "text/x-python",
   "name": "python",
   "nbconvert_exporter": "python",
   "pygments_lexer": "ipython3",
   "version": "3.10.0"
  },
  "orig_nbformat": 4
 },
 "nbformat": 4,
 "nbformat_minor": 2
}
